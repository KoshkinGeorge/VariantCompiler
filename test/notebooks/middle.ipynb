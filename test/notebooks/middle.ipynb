{
  "nbformat": 4,
  "nbformat_minor": 0,
  "metadata": {
    "colab": {
      "provenance": []
    },
    "kernelspec": {
      "name": "python3",
      "display_name": "Python 3"
    },
    "language_info": {
      "name": "python"
    }
  },
  "cells": [
    {
      "cell_type": "code",
      "execution_count": null,
      "metadata": {
        "id": "ieziXaCYPHMy"
      },
      "outputs": [],
      "source": [
        "print('That`s my first init block')"
      ]
    },
    {
      "cell_type": "code",
      "source": [
        "print('Second init block')"
      ],
      "metadata": {
        "id": "hJblEqFbPUuY"
      },
      "execution_count": null,
      "outputs": []
    },
    {
      "cell_type": "code",
      "source": [
        "import random"
      ],
      "metadata": {
        "id": "kyxeqodzPYo3"
      },
      "execution_count": null,
      "outputs": []
    },
    {
      "cell_type": "markdown",
      "source": [
        "## Задание 1\n",
        "\n",
        "Description: Выведите матрицу размера N * M, заполненную нулями"
      ],
      "metadata": {
        "id": "sSHWQxtvPe2H"
      }
    },
    {
      "cell_type": "markdown",
      "source": [
        "Difficulty: 2"
      ],
      "metadata": {
        "id": "4wNw5KrVPzBf"
      }
    },
    {
      "cell_type": "markdown",
      "source": [
        "Possible positions: 1"
      ],
      "metadata": {
        "id": "XoMwctx4P1iL"
      }
    },
    {
      "cell_type": "code",
      "source": [
        "# код, который генерирует N\n",
        "N = random.randint(1, 5)\n",
        "generated = f'**N = {N}**\\n'"
      ],
      "metadata": {
        "id": "ZVfVZTPtPt2C"
      },
      "execution_count": null,
      "outputs": []
    },
    {
      "cell_type": "code",
      "source": [
        "# код, который генерирует M\n",
        "M = random.randint(1, 5)\n",
        "generated = f'**M = {M}**\\n'"
      ],
      "metadata": {
        "id": "s3aCc54_PbsG"
      },
      "execution_count": null,
      "outputs": []
    },
    {
      "cell_type": "markdown",
      "source": [
        "## Задание 2\n",
        "\n",
        "Description: Выведите матрицу размера N * M, у которой на главной диагонали стоят единицы"
      ],
      "metadata": {
        "id": "mVkk32iCQb5c"
      }
    },
    {
      "cell_type": "markdown",
      "source": [
        "Difficulty: 2"
      ],
      "metadata": {
        "id": "_liCPld4Ql-b"
      }
    },
    {
      "cell_type": "markdown",
      "source": [
        "Possible positions: 1"
      ],
      "metadata": {
        "id": "e0FJQBb4Qmzq"
      }
    },
    {
      "cell_type": "code",
      "source": [
        "# код, который генерирует N\n",
        "N = random.randint(1, 5)\n",
        "generated = f'**N = {N}**\\n'"
      ],
      "metadata": {
        "id": "qReQhP41QpTr"
      },
      "execution_count": null,
      "outputs": []
    },
    {
      "cell_type": "code",
      "source": [
        "# код, который генерирует M\n",
        "M = random.randint(1, 5)\n",
        "generated = f'**M = {M}**\\n'"
      ],
      "metadata": {
        "id": "rQcnrQulQqSN"
      },
      "execution_count": null,
      "outputs": []
    },
    {
      "cell_type": "markdown",
      "source": [
        "##Задание 3\n",
        "\n",
        "Description: Выведите **диагональную матрицу** размера N * N, у которой на диагонали расставлены числа от 1 до N в возрастающем порядке"
      ],
      "metadata": {
        "id": "bCXL68S2RBQ7"
      }
    },
    {
      "cell_type": "markdown",
      "source": [
        "Difficulty: 3"
      ],
      "metadata": {
        "id": "1eLP6_AqRiFH"
      }
    },
    {
      "cell_type": "markdown",
      "source": [
        "Possible positions: 1"
      ],
      "metadata": {
        "id": "PpHJfqonRj23"
      }
    },
    {
      "cell_type": "code",
      "source": [
        "# код, который генерирует N\n",
        "N = random.randint(1, 5)\n",
        "generated = f'**N = {N}**\\n'"
      ],
      "metadata": {
        "id": "XxfrcVW3RIf4"
      },
      "execution_count": null,
      "outputs": []
    }
  ]
}