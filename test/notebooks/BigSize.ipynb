{
  "nbformat": 4,
  "nbformat_minor": 5,
  "metadata": {
    "colab": {
      "provenance": []
    }
  },
  "cells": [
    {
      "cell_type": "markdown",
      "source": [
        "Task 10"
      ],
      "metadata": {
        "id": "-OtneqE29GAv"
      },
      "id": "-OtneqE29GAv"
    },
    {
      "cell_type": "markdown",
      "source": [
        "1"
      ],
      "metadata": {
        "id": "FWD4PY3c9F3d"
      },
      "id": "FWD4PY3c9F3d"
    },
    {
      "cell_type": "markdown",
      "source": [
        "1"
      ],
      "metadata": {
        "id": "2RxaEwQ89F1F"
      },
      "id": "2RxaEwQ89F1F"
    },
    {
      "cell_type": "markdown",
      "source": [
        "Task11"
      ],
      "metadata": {
        "id": "XYArdFa49Fxt"
      },
      "id": "XYArdFa49Fxt"
    },
    {
      "cell_type": "markdown",
      "source": [
        "1"
      ],
      "metadata": {
        "id": "vhwxOyl29Ful"
      },
      "id": "vhwxOyl29Ful"
    },
    {
      "cell_type": "markdown",
      "source": [
        "1, 2"
      ],
      "metadata": {
        "id": "rMVTFG2R9Fru"
      },
      "id": "rMVTFG2R9Fru"
    },
    {
      "cell_type": "markdown",
      "source": [
        "Task 21"
      ],
      "metadata": {
        "id": "MMW6XN039Fce"
      },
      "id": "MMW6XN039Fce"
    },
    {
      "cell_type": "markdown",
      "source": [
        "2"
      ],
      "metadata": {
        "id": "ieHM-Aey9FZ1"
      },
      "id": "ieHM-Aey9FZ1"
    },
    {
      "cell_type": "markdown",
      "source": [
        "2"
      ],
      "metadata": {
        "id": "Y6Hz3O2W9FWW"
      },
      "id": "Y6Hz3O2W9FWW"
    },
    {
      "cell_type": "markdown",
      "source": [
        "Task 30"
      ],
      "metadata": {
        "id": "UvV-rGKW9FTN"
      },
      "id": "UvV-rGKW9FTN"
    },
    {
      "cell_type": "markdown",
      "source": [
        "3"
      ],
      "metadata": {
        "id": "66EB8OHP9FQF"
      },
      "id": "66EB8OHP9FQF"
    },
    {
      "cell_type": "markdown",
      "source": [
        "1, 2"
      ],
      "metadata": {
        "id": "qjLo8LWs9FMt"
      },
      "id": "qjLo8LWs9FMt"
    },
    {
      "cell_type": "markdown",
      "source": [
        "Task 31"
      ],
      "metadata": {
        "id": "ICUwWNUx9FJl"
      },
      "id": "ICUwWNUx9FJl"
    },
    {
      "cell_type": "markdown",
      "source": [
        "3"
      ],
      "metadata": {
        "id": "HtPl8kOW9FGt"
      },
      "id": "HtPl8kOW9FGt"
    },
    {
      "cell_type": "markdown",
      "source": [
        "2, 4"
      ],
      "metadata": {
        "id": "L-ZnNakc9FDl"
      },
      "id": "L-ZnNakc9FDl"
    },
    {
      "cell_type": "markdown",
      "source": [
        "Task 32"
      ],
      "metadata": {
        "id": "DBVtN3s_9FAV"
      },
      "id": "DBVtN3s_9FAV"
    },
    {
      "cell_type": "markdown",
      "source": [
        "3"
      ],
      "metadata": {
        "id": "ZMFHSVLx9E9N"
      },
      "id": "ZMFHSVLx9E9N"
    },
    {
      "cell_type": "markdown",
      "source": [
        "4"
      ],
      "metadata": {
        "id": "0Rk5INVq9E6m"
      },
      "id": "0Rk5INVq9E6m"
    },
    {
      "cell_type": "markdown",
      "source": [
        "Task 33"
      ],
      "metadata": {
        "id": "-jdmOuE09E3F"
      },
      "id": "-jdmOuE09E3F"
    },
    {
      "cell_type": "markdown",
      "source": [
        "3"
      ],
      "metadata": {
        "id": "FPLLXDQZ9E0N"
      },
      "id": "FPLLXDQZ9E0N"
    },
    {
      "cell_type": "markdown",
      "source": [
        "1"
      ],
      "metadata": {
        "id": "bb4Z8c4I9ExG"
      },
      "id": "bb4Z8c4I9ExG"
    },
    {
      "cell_type": "markdown",
      "source": [
        "Task 34"
      ],
      "metadata": {
        "id": "3i6qiEz29Et1"
      },
      "id": "3i6qiEz29Et1"
    },
    {
      "cell_type": "markdown",
      "source": [
        "3"
      ],
      "metadata": {
        "id": "DLEDni0o9Eq1"
      },
      "id": "DLEDni0o9Eq1"
    },
    {
      "cell_type": "markdown",
      "source": [
        "3"
      ],
      "metadata": {
        "id": "MiRqQcyt9En-"
      },
      "id": "MiRqQcyt9En-"
    },
    {
      "cell_type": "markdown",
      "source": [
        "Task 42"
      ],
      "metadata": {
        "id": "MXnXc0q29EJ2"
      },
      "id": "MXnXc0q29EJ2"
    },
    {
      "cell_type": "markdown",
      "source": [
        "4"
      ],
      "metadata": {
        "id": "JI4hSTNn9EGu"
      },
      "id": "JI4hSTNn9EGu"
    },
    {
      "cell_type": "markdown",
      "source": [
        "5"
      ],
      "metadata": {
        "id": "8FmIN--Q9EEF"
      },
      "id": "8FmIN--Q9EEF"
    },
    {
      "cell_type": "markdown",
      "source": [
        "Task 50"
      ],
      "metadata": {
        "id": "bAJxXEyE9EAu"
      },
      "id": "bAJxXEyE9EAu"
    },
    {
      "cell_type": "markdown",
      "source": [
        "5"
      ],
      "metadata": {
        "id": "_Moq18Xp9D92"
      },
      "id": "_Moq18Xp9D92"
    },
    {
      "cell_type": "markdown",
      "source": [
        "9"
      ],
      "metadata": {
        "id": "aqhdNW_j9D7N"
      },
      "id": "aqhdNW_j9D7N"
    },
    {
      "cell_type": "markdown",
      "source": [
        "Task 60"
      ],
      "metadata": {
        "id": "IApaXxuJ9D4V"
      },
      "id": "IApaXxuJ9D4V"
    },
    {
      "cell_type": "markdown",
      "source": [
        "6"
      ],
      "metadata": {
        "id": "NKvg3Cl99D1W"
      },
      "id": "NKvg3Cl99D1W"
    },
    {
      "cell_type": "markdown",
      "source": [
        "5, 6, 9, 10"
      ],
      "metadata": {
        "id": "DXPqwqfF9Dyu"
      },
      "id": "DXPqwqfF9Dyu"
    },
    {
      "cell_type": "markdown",
      "source": [
        "Task 61"
      ],
      "metadata": {
        "id": "yijCrKt-9Dm-"
      },
      "id": "yijCrKt-9Dm-"
    },
    {
      "cell_type": "markdown",
      "source": [
        "6"
      ],
      "metadata": {
        "id": "8a5xHSH3-jca"
      },
      "id": "8a5xHSH3-jca"
    },
    {
      "cell_type": "markdown",
      "source": [
        "5, 6, 7"
      ],
      "metadata": {
        "id": "lR0R-psT-kcS"
      },
      "id": "lR0R-psT-kcS"
    }
  ]
}