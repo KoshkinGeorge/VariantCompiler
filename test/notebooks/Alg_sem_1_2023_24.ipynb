{
  "cells": [
    {
      "cell_type": "markdown",
      "metadata": {
        "id": "UzV0rFa3ZIE6"
      },
      "source": [
        "# Практическое занятие 1\n",
        "## Компьютерный практикум по алгебре на Python"
      ]
    },
    {
      "cell_type": "markdown",
      "metadata": {
        "id": "mX8d718PZIFA"
      },
      "source": [
        "https://docs.sympy.org/latest/tutorial/intro.html"
      ]
    },
    {
      "cell_type": "code",
      "execution_count": null,
      "metadata": {
        "id": "1uiC2YF7ZIFB"
      },
      "outputs": [],
      "source": [
        "from sympy import sqrt, sin, cos, tan, atan, pi, E, Symbol, symbols, Matrix\n",
        "from sympy import expand, simplify, factor, collect, zeros, ones, eye, diag"
      ]
    },
    {
      "cell_type": "markdown",
      "metadata": {
        "id": "T9m5qBLdZIFD"
      },
      "source": [
        "## Действия с числами, числовые выражения\n",
        "Об основных типах данных Python 3.10 читайте здесь:\n",
        "https://docs.python.org/3/reference/datamodel.html#index-19\n",
        "\n",
        "Сейчас нам понадобятся типы:\n",
        "\n",
        "int - целое число (насколько большим оно может быть, зависит только от объема доступной памяти)\n",
        "\n",
        "float - вещественное число (double precision floating point numbers)\n",
        "\n",
        "### Пример 1.\n",
        "Сумма, разность, произведение чисел 3000 и 50000 и квадрат 3000 ($3000^2$).\n",
        "\n",
        "Для вывода результата в colab можно просто на последней строке написать, что нужно выводить."
      ]
    },
    {
      "cell_type": "code",
      "execution_count": 2,
      "metadata": {
        "colab": {
          "base_uri": "https://localhost:8080/"
        },
        "id": "LFEVN9lGZIFE",
        "outputId": "d4b01067-16c2-40ce-ac7f-9d682431a42f"
      },
      "outputs": [
        {
          "data": {
            "text/plain": [
              "(53000, -47000, 150000000, 9000000)"
            ]
          },
          "execution_count": 2,
          "metadata": {},
          "output_type": "execute_result"
        }
      ],
      "source": [
        "3000 + 50000, 3000 - 50000, 3000 * 50000, 3000 ** 2"
      ]
    },
    {
      "cell_type": "markdown",
      "metadata": {
        "id": "cihtmDmKqu4B"
      },
      "source": [
        "Для более информативного вывода используем встроенную функцию print."
      ]
    },
    {
      "cell_type": "code",
      "execution_count": 3,
      "metadata": {
        "colab": {
          "base_uri": "https://localhost:8080/"
        },
        "id": "FcCIriVrq3To",
        "outputId": "6096ce10-2e59-4e77-c49a-462f8551dc7c"
      },
      "outputs": [
        {
          "name": "stdout",
          "output_type": "stream",
          "text": [
            "3000 + 50000 = 53000 3000 - 50000 = -47000 3000 * 50000 = 150000000 3000 ** 2 = 9000000\n"
          ]
        }
      ],
      "source": [
        "print('3000 + 50000 =', 3000 + 50000, '3000 - 50000 =', 3000 - 50000,\n",
        "      '3000 * 50000 =', 3000 * 50000, '3000 ** 2 =', 3000 ** 2)"
      ]
    },
    {
      "cell_type": "markdown",
      "metadata": {
        "id": "VYxyHv4DrZCx"
      },
      "source": [
        "Еще более красивый вывод получается с использованием формата строк:"
      ]
    },
    {
      "cell_type": "code",
      "execution_count": 4,
      "metadata": {
        "colab": {
          "base_uri": "https://localhost:8080/"
        },
        "id": "1dartSqArfzY",
        "outputId": "c28654f5-3013-48d7-8f8b-7c85b7f85da4"
      },
      "outputs": [
        {
          "name": "stdout",
          "output_type": "stream",
          "text": [
            "3000 + 50000 = 53000, 3000 - 50000 = -47000, 3000 * 50000 = 150000000, 3000 ** 2 = 9000000\n"
          ]
        }
      ],
      "source": [
        "print(f'3000 + 50000 = {3000 + 50000}, 3000 - 50000 = {3000 - 50000}, 3000 * 50000 = {3000 * 50000}, 3000 ** 2 = {3000 ** 2}')"
      ]
    },
    {
      "cell_type": "markdown",
      "metadata": {
        "id": "OeBsnLh6r2Rg"
      },
      "source": [
        "В f-строке содержимое фигурных скобок заменяется на его значение.\n",
        "\n",
        "Для переноса строки внутри вызова функции print можно использовать \"\"\" вместо '"
      ]
    },
    {
      "cell_type": "code",
      "execution_count": 5,
      "metadata": {
        "colab": {
          "base_uri": "https://localhost:8080/"
        },
        "id": "72B9ipRGsBtg",
        "outputId": "96452cea-4249-4f94-a1f7-79731333fc9f"
      },
      "outputs": [
        {
          "name": "stdout",
          "output_type": "stream",
          "text": [
            "3000 + 50000 = 53000, 3000 - 50000 = -47000,\n",
            "3000 * 50000 = 150000000, 3000 ** 2 = 9000000\n"
          ]
        }
      ],
      "source": [
        "print(f\"\"\"3000 + 50000 = {3000 + 50000}, 3000 - 50000 = {3000 - 50000},\n",
        "3000 * 50000 = {3000 * 50000}, 3000 ** 2 = {3000 ** 2}\"\"\")"
      ]
    },
    {
      "cell_type": "markdown",
      "metadata": {
        "id": "Oz68vp5E2H3t"
      },
      "source": [
        "Чтобы все выводилось на одной строке в конце первой строки будем ставить $\\backslash$"
      ]
    },
    {
      "cell_type": "code",
      "execution_count": 6,
      "metadata": {
        "colab": {
          "base_uri": "https://localhost:8080/"
        },
        "id": "sn5nVSm72RMw",
        "outputId": "07a86277-057e-4c93-fcec-d18a26eae510"
      },
      "outputs": [
        {
          "name": "stdout",
          "output_type": "stream",
          "text": [
            "3000 + 50000 = 53000, 3000 - 50000 = -47000, 3000 * 50000 = 150000000, 3000 ** 2 = 9000000\n"
          ]
        }
      ],
      "source": [
        "print(f\"\"\"3000 + 50000 = {3000 + 50000}, 3000 - 50000 = {3000 - 50000}, \\\n",
        "3000 * 50000 = {3000 * 50000}, 3000 ** 2 = {3000 ** 2}\"\"\")"
      ]
    },
    {
      "cell_type": "markdown",
      "metadata": {
        "id": "HOzvuoziZIFF"
      },
      "source": [
        "### Пример 2.\n",
        "При делении целых чисел рекомендуется пользоваться целочисленными операциями деления и вычисления остатка от деления, поскольку обычное деление неизбежно приводит к результату типа float, даже если делимое нацело делится на делитель.\n",
        "\n",
        "Выведем на экран целую часть от деления 8 на 4 и остаток от деления, а также результат обычного деления 8 на 4."
      ]
    },
    {
      "cell_type": "code",
      "execution_count": 7,
      "metadata": {
        "colab": {
          "base_uri": "https://localhost:8080/"
        },
        "id": "iT4mc8XbZIFG",
        "outputId": "7f94909c-288c-4928-9991-f5eb05a4f9fe"
      },
      "outputs": [
        {
          "name": "stdout",
          "output_type": "stream",
          "text": [
            "8 // 4 = 2, 8 % 4 = 0, 8 / 4 = 2.0\n"
          ]
        }
      ],
      "source": [
        "print(f'8 // 4 = {8 // 4}, 8 % 4 = {8 % 4}, 8 / 4 = {8 / 4}')"
      ]
    },
    {
      "cell_type": "markdown",
      "metadata": {
        "id": "TuxfiY6MZIFG"
      },
      "source": [
        "### Пример 3.\n",
        "У функции print есть необязательный параметр end, по умолчанию равный переводу на новую строку, так что каждый вызов print дает отдельную строку на экране. Если нужно результаты вызова print вывести на одной строке, например, через запятую и пробел, то устанавливаем end=', '."
      ]
    },
    {
      "cell_type": "code",
      "execution_count": 8,
      "metadata": {
        "colab": {
          "base_uri": "https://localhost:8080/"
        },
        "id": "ZbtYmEp_ZIFH",
        "outputId": "2be43f4d-4630-49ab-d599-eb887ed78978"
      },
      "outputs": [
        {
          "name": "stdout",
          "output_type": "stream",
          "text": [
            "8 // 3 = 2, 8 % 3 = 2, 8 / 3 = 2.6666666666666665\n"
          ]
        }
      ],
      "source": [
        "print(f'8 // 3 = {8 // 3}', end=', ')\n",
        "print(f'8 % 3 = {8 % 3}', end=', ')\n",
        "print(f'8 / 3 = {8 / 3}')"
      ]
    },
    {
      "cell_type": "markdown",
      "metadata": {
        "id": "fdnsbGllwG7C"
      },
      "source": [
        "В качестве разделителя между отдельными аргументами print по умолчанию используется пробел, но это можно изменить, используя необязательный параметр sep. Сравните результат с sep=', ' и без."
      ]
    },
    {
      "cell_type": "code",
      "execution_count": 9,
      "metadata": {
        "colab": {
          "base_uri": "https://localhost:8080/"
        },
        "id": "PkCZKfvowq5g",
        "outputId": "e3f3cc41-e743-45cc-d49a-7cede1feee50"
      },
      "outputs": [
        {
          "name": "stdout",
          "output_type": "stream",
          "text": [
            "8 // 4 = 2 8 % 4 = 0 8 / 4 = 2.0\n",
            "8 // 4 = 2, 8 % 4 = 0, 8 / 4 = 2.0\n"
          ]
        }
      ],
      "source": [
        "print(f'8 // 4 = {8 // 4}', f'8 % 4 = {8 % 4}', f'8 / 4 = {8 / 4}')\n",
        "print(f'8 // 4 = {8 // 4}', f'8 % 4 = {8 % 4}', f'8 / 4 = {8 / 4}', sep=', ')"
      ]
    },
    {
      "cell_type": "markdown",
      "metadata": {
        "id": "fMo_sHeeZIFJ"
      },
      "source": [
        "### Пример 4.\n",
        "Далее будем пользоваться функцией display() для красивого вывода математических формул там, где это не получается автоматически.\n",
        "Cравним результат с print.\n",
        "\n",
        "Посмотрим, как выглядят значения некоторых математических функций из sympy:"
      ]
    },
    {
      "cell_type": "code",
      "execution_count": 12,
      "metadata": {
        "colab": {
          "base_uri": "https://localhost:8080/",
          "height": 115
        },
        "id": "-02XX_t3ZIFK",
        "outputId": "5211fc77-c7b4-4096-a0ab-4f71f60422dc"
      },
      "outputs": [
        {
          "data": {
            "text/latex": [
              "$\\displaystyle 2 \\sqrt{2}$"
            ],
            "text/plain": [
              "2*sqrt(2)"
            ]
          },
          "metadata": {},
          "output_type": "display_data"
        },
        {
          "data": {
            "text/latex": [
              "$\\displaystyle \\frac{\\sqrt{3}}{2}$"
            ],
            "text/plain": [
              "sqrt(3)/2"
            ]
          },
          "metadata": {},
          "output_type": "display_data"
        },
        {
          "data": {
            "text/latex": [
              "$\\displaystyle 0$"
            ],
            "text/plain": [
              "0"
            ]
          },
          "metadata": {},
          "output_type": "display_data"
        },
        {
          "name": "stdout",
          "output_type": "stream",
          "text": [
            "2*sqrt(2) sqrt(3)/2 0\n"
          ]
        }
      ],
      "source": [
        "display(sqrt(8), sin(pi / 3), atan(0))\n",
        "print(sqrt(8), sin(pi / 3), atan(0))"
      ]
    },
    {
      "cell_type": "markdown",
      "metadata": {
        "id": "PZGMn6l4c4qG"
      },
      "source": [
        "Если нужны приближенные значения, преобразуем выражения в тип float, используя метод evalf()"
      ]
    },
    {
      "cell_type": "code",
      "execution_count": 13,
      "metadata": {
        "colab": {
          "base_uri": "https://localhost:8080/",
          "height": 37
        },
        "id": "e7hoTjb98wzp",
        "outputId": "88c1522c-4504-4eaf-c6a2-8d8bdf4ccefc"
      },
      "outputs": [
        {
          "data": {
            "text/latex": [
              "$\\displaystyle 2.82842712474619$"
            ],
            "text/plain": [
              "2.82842712474619"
            ]
          },
          "execution_count": 13,
          "metadata": {},
          "output_type": "execute_result"
        }
      ],
      "source": [
        "sqrt(8).evalf()"
      ]
    },
    {
      "cell_type": "markdown",
      "metadata": {
        "id": "bIbi_fYDZIFL"
      },
      "source": [
        "## Символы, символьные выражения\n",
        "Для аналитических преобразований в sympy используется класс Symbol\n",
        "\n",
        "https://docs.sympy.org/latest/modules/core.html?highlight=symbol#module-sympy.core.symbol\n",
        "\n",
        "В этом классе есть метод Symbol для создания одного символа.\n",
        "### Пример 5.\n",
        "Создадим символ $x$ и используем его для составления выражения"
      ]
    },
    {
      "cell_type": "code",
      "execution_count": 16,
      "metadata": {
        "colab": {
          "base_uri": "https://localhost:8080/",
          "height": 53
        },
        "id": "0kLyN2W4ZIFL",
        "outputId": "05c85fa7-61da-439c-e083-4f0136c54de8"
      },
      "outputs": [
        {
          "data": {
            "text/latex": [
              "$\\displaystyle \\frac{\\left(2^{x} + x\\right) \\sin{\\left(x \\right)}}{x}$"
            ],
            "text/plain": [
              "(2**x + x)*sin(x)/x"
            ]
          },
          "execution_count": 16,
          "metadata": {},
          "output_type": "execute_result"
        }
      ],
      "source": [
        "x = Symbol('x')\n",
        "expr1 = x + 2 ** x\n",
        "expr2 = sin(x) / x\n",
        "expr1 * expr2"
      ]
    },
    {
      "cell_type": "markdown",
      "metadata": {
        "id": "iUR1SPXDZIFM"
      },
      "source": [
        "Можно создавать несколько символов сразу.\n",
        "### Пример 6.\n",
        "Создадим символы $y$ и $z$ и упростим выражение с ними.\n",
        "Обратим внимание, что используется symbols, а не Symbol!"
      ]
    },
    {
      "cell_type": "code",
      "execution_count": 17,
      "metadata": {
        "colab": {
          "base_uri": "https://localhost:8080/",
          "height": 38
        },
        "id": "NWLz0GD7ZIFN",
        "outputId": "fbe65447-cfd9-4783-cec4-1cf461648434"
      },
      "outputs": [
        {
          "data": {
            "text/latex": [
              "$\\displaystyle - y^{2} z - 2 y^{2} + 5 z^{3} + 1$"
            ],
            "text/plain": [
              "-y**2*z - 2*y**2 + 5*z**3 + 1"
            ]
          },
          "execution_count": 17,
          "metadata": {},
          "output_type": "execute_result"
        }
      ],
      "source": [
        "y, z = symbols('y z')\n",
        "y ** 2 + 1 - z * y ** 2 + 5 * z ** 3 - 3 * y ** 2"
      ]
    },
    {
      "cell_type": "markdown",
      "metadata": {
        "id": "akSGzenw-uW8"
      },
      "source": [
        "Метод evalf() можно применить и к выражению, содержащему символы, тогда будут вычислены только числовые выражения:"
      ]
    },
    {
      "cell_type": "code",
      "execution_count": 18,
      "metadata": {
        "colab": {
          "base_uri": "https://localhost:8080/",
          "height": 38
        },
        "id": "0pxAHeUC-waT",
        "outputId": "7deaf38d-d2a8-4d68-ffc0-f36b4334e749"
      },
      "outputs": [
        {
          "data": {
            "text/latex": [
              "$\\displaystyle 1.4142135623731 y^{0.5} + 0.141120008059867$"
            ],
            "text/plain": [
              "1.4142135623731*y**0.5 + 0.141120008059867"
            ]
          },
          "execution_count": 18,
          "metadata": {},
          "output_type": "execute_result"
        }
      ],
      "source": [
        "(sqrt(2 * y) + sin(3)).evalf()"
      ]
    },
    {
      "cell_type": "markdown",
      "metadata": {
        "id": "AuPXWfT1ZIFN"
      },
      "source": [
        "### Пример 7.\n",
        "Создадим символы $x_0,...x_9$ и составим выражение с ними\n",
        "\n",
        "Здесь используется цикл for со счетчиком i, значения счетчика берутся из диапазона range(start, end, step). По умолчанию start равен 0, step единица, так что если передать только один аргумент, получится последовательность всех целых чисел от 0 до end-1.\n",
        "\n",
        "ВАЖНО!!! end не включается в range.\n",
        "\n",
        "len(X) - длина X, в данном случае число элементов X."
      ]
    },
    {
      "cell_type": "code",
      "execution_count": 19,
      "metadata": {
        "colab": {
          "base_uri": "https://localhost:8080/",
          "height": 56
        },
        "id": "eN3Bauv4ZIFO",
        "outputId": "38e01b25-58e2-44b0-e71c-1b4d87069a3c"
      },
      "outputs": [
        {
          "data": {
            "text/plain": [
              "(x0, x1, x2, x3, x4, x5, x6, x7, x8, x9)"
            ]
          },
          "metadata": {},
          "output_type": "display_data"
        },
        {
          "data": {
            "text/latex": [
              "$\\displaystyle x_{1} + x_{2}^{2} + x_{3}^{3} + x_{4}^{4} + x_{5}^{5} + x_{6}^{6} + x_{7}^{7} + x_{8}^{8} + x_{9}^{9} + 1$"
            ],
            "text/plain": [
              "x1 + x2**2 + x3**3 + x4**4 + x5**5 + x6**6 + x7**7 + x8**8 + x9**9 + 1"
            ]
          },
          "metadata": {},
          "output_type": "display_data"
        }
      ],
      "source": [
        "X = symbols('x:10')\n",
        "display(X)\n",
        "expr7 = 0\n",
        "for i in range(len(X)):\n",
        "    expr7 += X[i] ** i\n",
        "display(expr7)"
      ]
    },
    {
      "cell_type": "markdown",
      "metadata": {
        "id": "VqBBBJdgZIFO"
      },
      "source": [
        "### Пример 8.\n",
        "Создадим символы x10,...x21. Обратите внимание, что послений индекс не учитывается, так что пишем x10:22, а не x10:21.\n",
        "\n",
        "Для красивого вывода используем display, для поэлементного вывода используем $*$ перед именем X10_21 (X10_21 - tuple, состоящий из отдельных символов).\n",
        "\n",
        "Сравните результат с $*$ и без."
      ]
    },
    {
      "cell_type": "code",
      "execution_count": 20,
      "metadata": {
        "colab": {
          "base_uri": "https://localhost:8080/",
          "height": 290
        },
        "id": "xjEzjIU2ZIFP",
        "outputId": "bb007173-542c-46a5-9cfe-456b5a0c7646"
      },
      "outputs": [
        {
          "data": {
            "text/plain": [
              "(x10, x11, x12, x13, x14, x15, x16, x17, x18, x19, x20, x21)"
            ]
          },
          "metadata": {},
          "output_type": "display_data"
        },
        {
          "data": {
            "text/latex": [
              "$\\displaystyle x_{10}$"
            ],
            "text/plain": [
              "x10"
            ]
          },
          "metadata": {},
          "output_type": "display_data"
        },
        {
          "data": {
            "text/latex": [
              "$\\displaystyle x_{11}$"
            ],
            "text/plain": [
              "x11"
            ]
          },
          "metadata": {},
          "output_type": "display_data"
        },
        {
          "data": {
            "text/latex": [
              "$\\displaystyle x_{12}$"
            ],
            "text/plain": [
              "x12"
            ]
          },
          "metadata": {},
          "output_type": "display_data"
        },
        {
          "data": {
            "text/latex": [
              "$\\displaystyle x_{13}$"
            ],
            "text/plain": [
              "x13"
            ]
          },
          "metadata": {},
          "output_type": "display_data"
        },
        {
          "data": {
            "text/latex": [
              "$\\displaystyle x_{14}$"
            ],
            "text/plain": [
              "x14"
            ]
          },
          "metadata": {},
          "output_type": "display_data"
        },
        {
          "data": {
            "text/latex": [
              "$\\displaystyle x_{15}$"
            ],
            "text/plain": [
              "x15"
            ]
          },
          "metadata": {},
          "output_type": "display_data"
        },
        {
          "data": {
            "text/latex": [
              "$\\displaystyle x_{16}$"
            ],
            "text/plain": [
              "x16"
            ]
          },
          "metadata": {},
          "output_type": "display_data"
        },
        {
          "data": {
            "text/latex": [
              "$\\displaystyle x_{17}$"
            ],
            "text/plain": [
              "x17"
            ]
          },
          "metadata": {},
          "output_type": "display_data"
        },
        {
          "data": {
            "text/latex": [
              "$\\displaystyle x_{18}$"
            ],
            "text/plain": [
              "x18"
            ]
          },
          "metadata": {},
          "output_type": "display_data"
        },
        {
          "data": {
            "text/latex": [
              "$\\displaystyle x_{19}$"
            ],
            "text/plain": [
              "x19"
            ]
          },
          "metadata": {},
          "output_type": "display_data"
        },
        {
          "data": {
            "text/latex": [
              "$\\displaystyle x_{20}$"
            ],
            "text/plain": [
              "x20"
            ]
          },
          "metadata": {},
          "output_type": "display_data"
        },
        {
          "data": {
            "text/latex": [
              "$\\displaystyle x_{21}$"
            ],
            "text/plain": [
              "x21"
            ]
          },
          "metadata": {},
          "output_type": "display_data"
        }
      ],
      "source": [
        "X10_21 = symbols('x10:22')\n",
        "display(X10_21)\n",
        "display(*X10_21)"
      ]
    },
    {
      "cell_type": "markdown",
      "metadata": {
        "id": "6bCvZvh-ZIFQ"
      },
      "source": [
        "## Операции с символьными выражениями: simplify, expand,factor,collect\n",
        "#### simplify\n",
        "используется для упрощения выражения\n",
        "#### expand\n",
        "используется для раскрытия скобок\n",
        "#### factor\n",
        "для разложения на множители\n",
        "#### collect\n",
        "для группировки по степеням переменной\n",
        "### Пример 9.\n",
        "Создадим выражение $(x-3)^2$  и раскроем скобки.\n",
        "К полученному выражению применим factor.\n",
        "Выражение $x+5xy-x^2y^3-x^2$ сгруппируем по степеням $x$. Упростим последнее выражение."
      ]
    },
    {
      "cell_type": "code",
      "execution_count": 21,
      "metadata": {
        "colab": {
          "base_uri": "https://localhost:8080/",
          "height": 213
        },
        "id": "1pbWlkDeZIFR",
        "outputId": "f0d5cf7a-1322-419c-ca1a-62c745c05a6a"
      },
      "outputs": [
        {
          "name": "stdout",
          "output_type": "stream",
          "text": [
            "expr9\n"
          ]
        },
        {
          "data": {
            "text/latex": [
              "$\\displaystyle \\left(x - 3\\right)^{2}$"
            ],
            "text/plain": [
              "(x - 3)**2"
            ]
          },
          "metadata": {},
          "output_type": "display_data"
        },
        {
          "name": "stdout",
          "output_type": "stream",
          "text": [
            "expand(expr9)\n"
          ]
        },
        {
          "data": {
            "text/latex": [
              "$\\displaystyle x^{2} - 6 x + 9$"
            ],
            "text/plain": [
              "x**2 - 6*x + 9"
            ]
          },
          "metadata": {},
          "output_type": "display_data"
        },
        {
          "name": "stdout",
          "output_type": "stream",
          "text": [
            "factor(expr9_1)\n"
          ]
        },
        {
          "data": {
            "text/latex": [
              "$\\displaystyle \\left(x - 3\\right)^{2}$"
            ],
            "text/plain": [
              "(x - 3)**2"
            ]
          },
          "metadata": {},
          "output_type": "display_data"
        },
        {
          "name": "stdout",
          "output_type": "stream",
          "text": [
            "collect(expr9_3, x)\n"
          ]
        },
        {
          "data": {
            "text/latex": [
              "$\\displaystyle x^{2} \\left(- y^{3} - 1\\right) + x \\left(1 - 5 y\\right)$"
            ],
            "text/plain": [
              "x**2*(-y**3 - 1) + x*(1 - 5*y)"
            ]
          },
          "metadata": {},
          "output_type": "display_data"
        },
        {
          "name": "stdout",
          "output_type": "stream",
          "text": [
            "simplify(expr9_3)\n"
          ]
        },
        {
          "data": {
            "text/latex": [
              "$\\displaystyle x \\left(- x y^{3} - x - 5 y + 1\\right)$"
            ],
            "text/plain": [
              "x*(-x*y**3 - x - 5*y + 1)"
            ]
          },
          "metadata": {},
          "output_type": "display_data"
        }
      ],
      "source": [
        "expr9 = (x - 3) ** 2\n",
        "print('expr9')\n",
        "display(expr9)\n",
        "\n",
        "expr9_1 = expand(expr9)\n",
        "print('expand(expr9)')\n",
        "display(expr9_1)\n",
        "\n",
        "expr9_2 = factor(expr9_1)\n",
        "print('factor(expr9_1)')\n",
        "display(expr9_2)\n",
        "\n",
        "expr9_3 = x - 5 * x * y - x ** 2 * y ** 3 - x ** 2\n",
        "print('collect(expr9_3, x)')\n",
        "display(collect(expr9_3, x))\n",
        "\n",
        "expr9_4 = simplify(expr9_3)\n",
        "print('simplify(expr9_3)')\n",
        "display(expr9_4)"
      ]
    },
    {
      "cell_type": "code",
      "execution_count": 22,
      "metadata": {
        "colab": {
          "base_uri": "https://localhost:8080/",
          "height": 57
        },
        "id": "loRp4jPjZIFR",
        "outputId": "66b35518-3967-41d5-d643-b5e4d609577b"
      },
      "outputs": [
        {
          "name": "stdout",
          "output_type": "stream",
          "text": [
            "factor(x ** 2 + 2 * x * y + y ** 2)\n"
          ]
        },
        {
          "data": {
            "text/latex": [
              "$\\displaystyle \\left(x + y\\right)^{2}$"
            ],
            "text/plain": [
              "(x + y)**2"
            ]
          },
          "metadata": {},
          "output_type": "display_data"
        }
      ],
      "source": [
        "print('factor(x ** 2 + 2 * x * y + y ** 2)')\n",
        "display(factor(x ** 2 + 2 * x * y + y ** 2))"
      ]
    },
    {
      "cell_type": "markdown",
      "metadata": {
        "id": "DWdx1i4uZIFS"
      },
      "source": [
        "## Списки и кортежи\n",
        "Нам понадобятся два итерируемых типа\n",
        "\n",
        "#### списки list\n",
        "изменяемый тип\n",
        "#### кортежи tuple\n",
        "неизменяемый тип\n",
        "\n",
        "### Пример 10\n",
        "создадим кортеж символов:"
      ]
    },
    {
      "cell_type": "code",
      "execution_count": 23,
      "metadata": {
        "colab": {
          "base_uri": "https://localhost:8080/",
          "height": 141
        },
        "id": "T5dfMopzZIFS",
        "outputId": "7e6f54b7-0990-4a49-ab56-ad3392edcb3b"
      },
      "outputs": [
        {
          "data": {
            "text/plain": [
              "(c, d, e, f)"
            ]
          },
          "metadata": {},
          "output_type": "display_data"
        },
        {
          "data": {
            "text/latex": [
              "$\\displaystyle c$"
            ],
            "text/plain": [
              "c"
            ]
          },
          "metadata": {},
          "output_type": "display_data"
        },
        {
          "data": {
            "text/latex": [
              "$\\displaystyle d$"
            ],
            "text/plain": [
              "d"
            ]
          },
          "metadata": {},
          "output_type": "display_data"
        },
        {
          "data": {
            "text/latex": [
              "$\\displaystyle e$"
            ],
            "text/plain": [
              "e"
            ]
          },
          "metadata": {},
          "output_type": "display_data"
        },
        {
          "data": {
            "text/latex": [
              "$\\displaystyle f$"
            ],
            "text/plain": [
              "f"
            ]
          },
          "metadata": {},
          "output_type": "display_data"
        },
        {
          "data": {
            "text/latex": [
              "$\\displaystyle d$"
            ],
            "text/plain": [
              "d"
            ]
          },
          "metadata": {},
          "output_type": "display_data"
        }
      ],
      "source": [
        "tup = symbols('c:f')\n",
        "display(tup, *tup, tup[1])"
      ]
    },
    {
      "cell_type": "markdown",
      "metadata": {
        "id": "U07_RQIvZIFS"
      },
      "source": [
        "### Пример 11\n",
        "Создадим  список символов и заменим в нем второй символ на символ $х$."
      ]
    },
    {
      "cell_type": "code",
      "execution_count": 24,
      "metadata": {
        "colab": {
          "base_uri": "https://localhost:8080/",
          "height": 52
        },
        "id": "TZIWuJ0wZIFS",
        "outputId": "e7771e93-381d-46ca-beb6-8f490bfbe784"
      },
      "outputs": [
        {
          "data": {
            "text/plain": [
              "[m, p, q, r]"
            ]
          },
          "metadata": {},
          "output_type": "display_data"
        },
        {
          "data": {
            "text/plain": [
              "[m, p, x, r]"
            ]
          },
          "metadata": {},
          "output_type": "display_data"
        }
      ],
      "source": [
        "list_sym = symbols(['m', 'p', 'q', 'r'])\n",
        "display(list_sym)\n",
        "list_sym[2] = x\n",
        "display(list_sym)"
      ]
    },
    {
      "cell_type": "markdown",
      "metadata": {
        "id": "PskKu9AeZIFT"
      },
      "source": [
        "Если попытаемся заменить элемент кортежа, получим сообщение об ошибке"
      ]
    },
    {
      "cell_type": "code",
      "execution_count": 25,
      "metadata": {
        "colab": {
          "base_uri": "https://localhost:8080/",
          "height": 176
        },
        "id": "Rox28vfzZIFT",
        "outputId": "cdcd1ea8-0f9f-474b-8140-0d783571e8b0"
      },
      "outputs": [
        {
          "ename": "TypeError",
          "evalue": "ignored",
          "output_type": "error",
          "traceback": [
            "\u001b[0;31m---------------------------------------------------------------------------\u001b[0m",
            "\u001b[0;31mTypeError\u001b[0m                                 Traceback (most recent call last)",
            "\u001b[0;32m<ipython-input-25-d516279dfb61>\u001b[0m in \u001b[0;36m<cell line: 1>\u001b[0;34m()\u001b[0m\n\u001b[0;32m----> 1\u001b[0;31m \u001b[0mtup\u001b[0m\u001b[0;34m[\u001b[0m\u001b[0;36m1\u001b[0m\u001b[0;34m]\u001b[0m \u001b[0;34m=\u001b[0m \u001b[0;36m1\u001b[0m\u001b[0;34m\u001b[0m\u001b[0;34m\u001b[0m\u001b[0m\n\u001b[0m",
            "\u001b[0;31mTypeError\u001b[0m: 'tuple' object does not support item assignment"
          ]
        }
      ],
      "source": [
        "tup[1] = 1"
      ]
    },
    {
      "cell_type": "markdown",
      "metadata": {
        "id": "6dxuudZRZIFT"
      },
      "source": [
        "## Вложенные списки\n",
        "\n",
        "Создадим вложенный список - аналог двумерного массива:"
      ]
    },
    {
      "cell_type": "code",
      "execution_count": 26,
      "metadata": {
        "colab": {
          "base_uri": "https://localhost:8080/",
          "height": 52
        },
        "id": "U8u2W5P4ZIFT",
        "outputId": "8daa1e90-197d-41f4-9d04-bd267b4c3d12"
      },
      "outputs": [
        {
          "data": {
            "text/plain": [
              "[[1, 2], [3, 4]]"
            ]
          },
          "metadata": {},
          "output_type": "display_data"
        },
        {
          "data": {
            "text/plain": [
              "[[1, 2], [5, 4]]"
            ]
          },
          "metadata": {},
          "output_type": "display_data"
        }
      ],
      "source": [
        "list2d = [[1, 2], [3, 4]]\n",
        "display(list2d)\n",
        "list2d[1][0] = 5\n",
        "display(list2d)"
      ]
    },
    {
      "cell_type": "markdown",
      "metadata": {
        "id": "7qJ7Qe9jZIFU"
      },
      "source": [
        "Индексация во вложенном списке:\n",
        "\n",
        "$A[i][j]$ - элемент списка $A$, находящийся в $i$-й строке $j$-м столбце\n",
        "\n",
        "## Матрицы\n",
        "В sympy есть объекты Matrix\n",
        "\n",
        "https://docs.sympy.org/latest/tutorial/matrices.html?highlight=matrix\n",
        "\n",
        "К матрицам можно применять метод det().\n",
        "\n",
        "У матриц есть свойство shape.\n",
        "\n",
        "Матрицу можно построить, например, на основе списка:"
      ]
    },
    {
      "cell_type": "code",
      "execution_count": 27,
      "metadata": {
        "colab": {
          "base_uri": "https://localhost:8080/",
          "height": 95
        },
        "id": "okyYfuLtZIFU",
        "outputId": "e18aa158-48df-4507-a240-6ae4d940f671"
      },
      "outputs": [
        {
          "data": {
            "text/latex": [
              "$\\displaystyle \\left[\\begin{matrix}1 & 2\\\\5 & 4\\end{matrix}\\right]$"
            ],
            "text/plain": [
              "Matrix([\n",
              "[1, 2],\n",
              "[5, 4]])"
            ]
          },
          "metadata": {},
          "output_type": "display_data"
        },
        {
          "data": {
            "text/latex": [
              "$\\displaystyle -6$"
            ],
            "text/plain": [
              "-6"
            ]
          },
          "metadata": {},
          "output_type": "display_data"
        },
        {
          "data": {
            "text/plain": [
              "(2, 2)"
            ]
          },
          "execution_count": 27,
          "metadata": {},
          "output_type": "execute_result"
        }
      ],
      "source": [
        "M = Matrix(list2d)\n",
        "display(M)\n",
        "display(M.det())\n",
        "M.shape"
      ]
    },
    {
      "cell_type": "markdown",
      "metadata": {
        "id": "7xi6pdGAZIFU"
      },
      "source": [
        "### Создание матриц определенного вида\n",
        "\n",
        "Можно создавать матрицы из нулей, единиц и единичные матрицы с помощью встренных функций"
      ]
    },
    {
      "cell_type": "code",
      "execution_count": 30,
      "metadata": {
        "colab": {
          "base_uri": "https://localhost:8080/",
          "height": 200
        },
        "id": "DkFburGnZIFU",
        "outputId": "adacebc8-29d4-4374-d61b-058b9f50d4f6"
      },
      "outputs": [
        {
          "data": {
            "text/latex": [
              "$\\displaystyle \\left[\\begin{matrix}0 & 0\\\\0 & 0\\end{matrix}\\right]$"
            ],
            "text/plain": [
              "Matrix([\n",
              "[0, 0],\n",
              "[0, 0]])"
            ]
          },
          "metadata": {},
          "output_type": "display_data"
        },
        {
          "data": {
            "text/latex": [
              "$\\displaystyle \\left[\\begin{matrix}1 & 1 & 1\\\\1 & 1 & 1\\\\1 & 1 & 1\\end{matrix}\\right]$"
            ],
            "text/plain": [
              "Matrix([\n",
              "[1, 1, 1],\n",
              "[1, 1, 1],\n",
              "[1, 1, 1]])"
            ]
          },
          "metadata": {},
          "output_type": "display_data"
        },
        {
          "data": {
            "text/latex": [
              "$\\displaystyle \\left[\\begin{matrix}1 & 0 & 0 & 0\\\\0 & 1 & 0 & 0\\\\0 & 0 & 1 & 0\\\\0 & 0 & 0 & 1\\end{matrix}\\right]$"
            ],
            "text/plain": [
              "Matrix([\n",
              "[1, 0, 0, 0],\n",
              "[0, 1, 0, 0],\n",
              "[0, 0, 1, 0],\n",
              "[0, 0, 0, 1]])"
            ]
          },
          "metadata": {},
          "output_type": "display_data"
        }
      ],
      "source": [
        "display(zeros(2), ones(3), eye(4))"
      ]
    },
    {
      "cell_type": "markdown",
      "metadata": {
        "id": "ZZRNrPJJZIFV"
      },
      "source": [
        "Можно создать диагональную матрицу:"
      ]
    },
    {
      "cell_type": "code",
      "execution_count": 32,
      "metadata": {
        "colab": {
          "base_uri": "https://localhost:8080/",
          "height": 119
        },
        "id": "T9uKGmL6ZIFV",
        "outputId": "6fc08ee2-6cac-4559-ff1d-9fbe0065ec6e"
      },
      "outputs": [
        {
          "data": {
            "text/latex": [
              "$\\displaystyle \\left[\\begin{matrix}1 & 0 & 0 & 0 & 0\\\\0 & 2 & 0 & 0 & 0\\\\0 & 0 & 1 & 1 & 1\\\\0 & 0 & 1 & 1 & 1\\\\0 & 0 & 1 & 1 & 1\\end{matrix}\\right]$"
            ],
            "text/plain": [
              "Matrix([\n",
              "[1, 0, 0, 0, 0],\n",
              "[0, 2, 0, 0, 0],\n",
              "[0, 0, 1, 1, 1],\n",
              "[0, 0, 1, 1, 1],\n",
              "[0, 0, 1, 1, 1]])"
            ]
          },
          "execution_count": 32,
          "metadata": {},
          "output_type": "execute_result"
        }
      ],
      "source": [
        "R = diag(1, 2, ones(3))\n",
        "R"
      ]
    },
    {
      "cell_type": "markdown",
      "metadata": {
        "id": "iGBbGIBFZIFV"
      },
      "source": [
        "В матрице можно выделить строку или столбец:"
      ]
    },
    {
      "cell_type": "code",
      "execution_count": 33,
      "metadata": {
        "colab": {
          "base_uri": "https://localhost:8080/",
          "height": 38
        },
        "id": "_oFyyukxZIFV",
        "outputId": "b8fa0a62-4ae3-4c6b-a906-038ada3a9f9f"
      },
      "outputs": [
        {
          "data": {
            "text/latex": [
              "$\\displaystyle \\left[\\begin{matrix}0 & 2 & 0 & 0 & 0\\end{matrix}\\right]$"
            ],
            "text/plain": [
              "Matrix([[0, 2, 0, 0, 0]])"
            ]
          },
          "execution_count": 33,
          "metadata": {},
          "output_type": "execute_result"
        }
      ],
      "source": [
        "R.row(1)"
      ]
    },
    {
      "cell_type": "code",
      "execution_count": 34,
      "metadata": {
        "colab": {
          "base_uri": "https://localhost:8080/",
          "height": 119
        },
        "id": "zcbTarvJZIFV",
        "outputId": "e8ebab34-1099-4f96-d218-f547274fc3d2"
      },
      "outputs": [
        {
          "data": {
            "text/latex": [
              "$\\displaystyle \\left[\\begin{matrix}1\\\\0\\\\0\\\\0\\\\0\\end{matrix}\\right]$"
            ],
            "text/plain": [
              "Matrix([\n",
              "[1],\n",
              "[0],\n",
              "[0],\n",
              "[0],\n",
              "[0]])"
            ]
          },
          "execution_count": 34,
          "metadata": {},
          "output_type": "execute_result"
        }
      ],
      "source": [
        "R.col(0)"
      ]
    },
    {
      "cell_type": "markdown",
      "metadata": {
        "id": "K-T1nToJZIFW"
      },
      "source": [
        "Можно использовать нумерацию \"с хвоста\":"
      ]
    },
    {
      "cell_type": "code",
      "execution_count": 35,
      "metadata": {
        "colab": {
          "base_uri": "https://localhost:8080/",
          "height": 119
        },
        "id": "X_pUrFMsZIFW",
        "outputId": "cea90ee6-e5c0-41a1-9b67-2d3409de0311"
      },
      "outputs": [
        {
          "data": {
            "text/latex": [
              "$\\displaystyle \\left[\\begin{matrix}0\\\\2\\\\0\\\\0\\\\0\\end{matrix}\\right]$"
            ],
            "text/plain": [
              "Matrix([\n",
              "[0],\n",
              "[2],\n",
              "[0],\n",
              "[0],\n",
              "[0]])"
            ]
          },
          "execution_count": 35,
          "metadata": {},
          "output_type": "execute_result"
        }
      ],
      "source": [
        "R.col(-4)"
      ]
    },
    {
      "cell_type": "markdown",
      "metadata": {
        "id": "yYMpf5FSZIFW"
      },
      "source": [
        "Можно удалить или добавить строку или столбец:"
      ]
    },
    {
      "cell_type": "code",
      "execution_count": 36,
      "metadata": {
        "colab": {
          "base_uri": "https://localhost:8080/",
          "height": 220
        },
        "id": "LY9bkHruZIFW",
        "outputId": "5a9ffcf7-9cbf-4cad-8f54-378e11eedb6b"
      },
      "outputs": [
        {
          "data": {
            "text/latex": [
              "$\\displaystyle \\left[\\begin{matrix}2 & 0 & 0 & 0 & 0\\\\0 & 3 & 0 & 0 & 0\\\\0 & 0 & 4 & 0 & 0\\\\0 & 0 & 0 & 5 & 0\\\\0 & 0 & 0 & 0 & 6\\end{matrix}\\right]$"
            ],
            "text/plain": [
              "Matrix([\n",
              "[2, 0, 0, 0, 0],\n",
              "[0, 3, 0, 0, 0],\n",
              "[0, 0, 4, 0, 0],\n",
              "[0, 0, 0, 5, 0],\n",
              "[0, 0, 0, 0, 6]])"
            ]
          },
          "metadata": {},
          "output_type": "display_data"
        },
        {
          "data": {
            "text/latex": [
              "$\\displaystyle \\left[\\begin{matrix}2 & 0 & 0 & 0\\\\0 & 3 & 0 & 0\\\\0 & 0 & 4 & 0\\\\0 & 0 & 0 & 0\\\\0 & 0 & 0 & 6\\end{matrix}\\right]$"
            ],
            "text/plain": [
              "Matrix([\n",
              "[2, 0, 0, 0],\n",
              "[0, 3, 0, 0],\n",
              "[0, 0, 4, 0],\n",
              "[0, 0, 0, 0],\n",
              "[0, 0, 0, 6]])"
            ]
          },
          "execution_count": 36,
          "metadata": {},
          "output_type": "execute_result"
        }
      ],
      "source": [
        "Q = diag(2, 3, 4, 5, 6)\n",
        "display(Q)\n",
        "Q.col_del(3)\n",
        "Q"
      ]
    },
    {
      "cell_type": "code",
      "execution_count": 37,
      "metadata": {
        "colab": {
          "base_uri": "https://localhost:8080/",
          "height": 139
        },
        "id": "F84sgJ1oZIFW",
        "outputId": "0f2bb15e-3d53-42d2-90a8-630876397325"
      },
      "outputs": [
        {
          "data": {
            "text/latex": [
              "$\\displaystyle \\left[\\begin{matrix}1 & 1\\\\1 & 1\\end{matrix}\\right]$"
            ],
            "text/plain": [
              "Matrix([\n",
              "[1, 1],\n",
              "[1, 1]])"
            ]
          },
          "metadata": {},
          "output_type": "display_data"
        },
        {
          "data": {
            "text/latex": [
              "$\\displaystyle \\left[\\begin{matrix}1 & 1\\\\0 & 0\\\\0 & 0\\\\1 & 1\\end{matrix}\\right]$"
            ],
            "text/plain": [
              "Matrix([\n",
              "[1, 1],\n",
              "[0, 0],\n",
              "[0, 0],\n",
              "[1, 1]])"
            ]
          },
          "execution_count": 37,
          "metadata": {},
          "output_type": "execute_result"
        }
      ],
      "source": [
        "G = ones(2)\n",
        "display(G)\n",
        "G.row_insert(1, zeros(2))"
      ]
    },
    {
      "cell_type": "markdown",
      "metadata": {
        "id": "dBdme5GNZIFX"
      },
      "source": [
        "Внимание!\n",
        "\n",
        "col_insert и row_insert НЕ изменяют матрицу, к которой они применяются!!!\n",
        "col_insert и row_insert возвращают измененную матрицу в качестве результата."
      ]
    },
    {
      "cell_type": "code",
      "execution_count": 38,
      "metadata": {
        "colab": {
          "base_uri": "https://localhost:8080/",
          "height": 330
        },
        "id": "BAIwZeMfZIFX",
        "outputId": "2d8443f6-1105-41d5-c187-c009722b4214"
      },
      "outputs": [
        {
          "name": "stdout",
          "output_type": "stream",
          "text": [
            "D:\n"
          ]
        },
        {
          "data": {
            "text/latex": [
              "$\\displaystyle \\left[\\begin{matrix}7 & 0 & 0 & 0\\\\0 & 8 & 0 & 0\\\\0 & 0 & 9 & 0\\\\0 & 0 & 0 & 0\\end{matrix}\\right]$"
            ],
            "text/plain": [
              "Matrix([\n",
              "[7, 0, 0, 0],\n",
              "[0, 8, 0, 0],\n",
              "[0, 0, 9, 0],\n",
              "[0, 0, 0, 0]])"
            ]
          },
          "metadata": {},
          "output_type": "display_data"
        },
        {
          "name": "stdout",
          "output_type": "stream",
          "text": [
            "после вставки столбца\n",
            "T:\n"
          ]
        },
        {
          "data": {
            "text/latex": [
              "$\\displaystyle \\left[\\begin{matrix}7 & 3 & 0 & 0 & 0\\\\0 & 4 & 8 & 0 & 0\\\\0 & 5 & 0 & 9 & 0\\\\0 & 6 & 0 & 0 & 0\\end{matrix}\\right]$"
            ],
            "text/plain": [
              "Matrix([\n",
              "[7, 3, 0, 0, 0],\n",
              "[0, 4, 8, 0, 0],\n",
              "[0, 5, 0, 9, 0],\n",
              "[0, 6, 0, 0, 0]])"
            ]
          },
          "metadata": {},
          "output_type": "display_data"
        },
        {
          "name": "stdout",
          "output_type": "stream",
          "text": [
            "D:\n"
          ]
        },
        {
          "data": {
            "text/latex": [
              "$\\displaystyle \\left[\\begin{matrix}7 & 0 & 0 & 0\\\\0 & 8 & 0 & 0\\\\0 & 0 & 9 & 0\\\\0 & 0 & 0 & 0\\end{matrix}\\right]$"
            ],
            "text/plain": [
              "Matrix([\n",
              "[7, 0, 0, 0],\n",
              "[0, 8, 0, 0],\n",
              "[0, 0, 9, 0],\n",
              "[0, 0, 0, 0]])"
            ]
          },
          "metadata": {},
          "output_type": "display_data"
        }
      ],
      "source": [
        "D = diag(7, 8, 9, 0)\n",
        "print('D:')\n",
        "display(D)\n",
        "T = D.col_insert(1, Matrix([3, 4, 5, 6]))\n",
        "print('после вставки столбца\\nT:')\n",
        "display(T)\n",
        "print('D:')\n",
        "display(D)"
      ]
    },
    {
      "cell_type": "markdown",
      "metadata": {
        "id": "FW1QLS64ZIFX"
      },
      "source": [
        "### Пригодится\n",
        "\n",
        "Числа $\\pi$ и $e$ есть в Sympy:"
      ]
    },
    {
      "cell_type": "code",
      "execution_count": 41,
      "metadata": {
        "colab": {
          "base_uri": "https://localhost:8080/",
          "height": 60
        },
        "id": "bFRlXA2rZIFX",
        "outputId": "302e2d8f-bafa-47c8-f871-fa6f56346218"
      },
      "outputs": [
        {
          "data": {
            "text/latex": [
              "$\\displaystyle \\pi$"
            ],
            "text/plain": [
              "pi"
            ]
          },
          "metadata": {},
          "output_type": "display_data"
        },
        {
          "data": {
            "text/latex": [
              "$\\displaystyle e$"
            ],
            "text/plain": [
              "E"
            ]
          },
          "metadata": {},
          "output_type": "display_data"
        }
      ],
      "source": [
        "display(pi, E)"
      ]
    },
    {
      "cell_type": "markdown",
      "metadata": {
        "id": "DH0OcRRoZIFX"
      },
      "source": [
        "Можем посмотреть на их приближенные значения:"
      ]
    },
    {
      "cell_type": "code",
      "execution_count": 42,
      "metadata": {
        "colab": {
          "base_uri": "https://localhost:8080/"
        },
        "id": "BVQRJcplZIFY",
        "outputId": "70705b96-7c29-438e-ed6c-eeec8227a789"
      },
      "outputs": [
        {
          "data": {
            "text/plain": [
              "(3.142, 2.718)"
            ]
          },
          "execution_count": 42,
          "metadata": {},
          "output_type": "execute_result"
        }
      ],
      "source": [
        "round(pi, 3), round(E, 3)"
      ]
    }
  ],
  "metadata": {
    "colab": {
      "provenance": []
    },
    "kernelspec": {
      "display_name": "Python 3",
      "language": "python",
      "name": "python3"
    },
    "language_info": {
      "codemirror_mode": {
        "name": "ipython",
        "version": 3
      },
      "file_extension": ".py",
      "mimetype": "text/x-python",
      "name": "python",
      "nbconvert_exporter": "python",
      "pygments_lexer": "ipython3",
      "version": "3.7.3"
    }
  },
  "nbformat": 4,
  "nbformat_minor": 0
}
