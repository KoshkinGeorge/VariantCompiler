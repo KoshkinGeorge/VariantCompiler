{
  "nbformat": 4,
  "nbformat_minor": 0,
  "metadata": {
    "colab": {
      "provenance": []
    },
    "kernelspec": {
      "name": "python3",
      "display_name": "Python 3"
    },
    "language_info": {
      "name": "python"
    }
  },
  "cells": [
    {
      "cell_type": "code",
      "source": [
        "import sympy\n",
        "from sympy import Matrix, latex\n",
        "from sympy import pi as Pi\n",
        "from sympy import cos as Cos\n",
        "from sympy import sin as Sin\n",
        "import matplotlib.pyplot as plt\n",
        "from IPython.display import Latex"
      ],
      "metadata": {
        "id": "2aGGx7t9vdw4"
      },
      "execution_count": null,
      "outputs": []
    },
    {
      "cell_type": "markdown",
      "source": [
        "# Практическое занятие 13\n",
        "# Компьютерный практикум по алгебре на Python\n",
        "## Линейные операторы на плоскости и в пространстве"
      ],
      "metadata": {
        "id": "hgi5iFeyvZjb"
      }
    }
  ]
}