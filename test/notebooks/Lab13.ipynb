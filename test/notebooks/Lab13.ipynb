{
  "nbformat": 4,
  "nbformat_minor": 0,
  "metadata": {
    "colab": {
      "provenance": []
    },
    "kernelspec": {
      "name": "python3",
      "display_name": "Python 3"
    },
    "language_info": {
      "name": "python"
    }
  },
  "cells": [
    {
      "cell_type": "code",
      "source": [
        "import sympy as sp\n",
        "import numpy as np\n",
        "import pandas as pd\n",
        "\n",
        "rng = np.random.default_rng()\n",
        "# красивыми будут считаться числа, чей модуль меньше или равен GOOD_NUM_THRESHOLD\n",
        "GOOD_NUM_THRESHOLD = 9"
      ],
      "metadata": {
        "id": "06pqG8p2V9KZ"
      },
      "execution_count": null,
      "outputs": []
    },
    {
      "cell_type": "code",
      "source": [
        "# обратная матрица почти всегда содержит огромные знаменатели, а нам бы хотелось решать задачи с красивыми числами.\n",
        "# Поэтому в качестве матрицы перехода будет генерироваться ортогональная матрица, ведь её обратная всегда красивая\n",
        "def gen_ort_matrix():\n",
        "        while True:\n",
        "            # Генерация специальных троек для ортогональной матрицы вида\n",
        "            # [ ab  bc  ca ]\n",
        "            # [ ca  ab -bc ]\n",
        "            # [ bc -ca  ab ],\n",
        "            # где c = a + b\n",
        "            a, b, c = 0, 0, 0\n",
        "            while a * b * c == 0 or abs(a * b * c) == 1:\n",
        "              a, b = rng.integers(low=-6, high=7, size=2)\n",
        "              c = a + b\n",
        "            # Создаём матрицу по формуле\n",
        "            matrix = sp.Matrix([\n",
        "                [a * b, b * c, c * a],\n",
        "                [c * a, a * b, -b * c],\n",
        "                [b * c, -c * a, a * b],\n",
        "            ])\n",
        "\n",
        "            # Чтобы определитель был единичным,\n",
        "            # делим элементы матрицы на кубический корень из определителя\n",
        "            det = matrix.det()\n",
        "            coef = int(np.cbrt(float(det)))\n",
        "            matrix /= coef\n",
        "\n",
        "            # Матрица подходит, если она действительно ортогональна (кажется почти всегда)\n",
        "            # и если числа в знаменателе не очень большие\n",
        "            if abs(coef) <= GOOD_NUM_THRESHOLD and sp.simplify(matrix * matrix.T) == sp.eye(3):\n",
        "                break\n",
        "\n",
        "        # Возвращаем матрицу\n",
        "        return matrix"
      ],
      "metadata": {
        "id": "ldDNIe31YYGw"
      },
      "execution_count": null,
      "outputs": []
    },
    {
      "cell_type": "code",
      "source": [
        "def gen_alpha():\n",
        "  return rng.integers(low=1, high=72) * 5"
      ],
      "metadata": {
        "id": "FOzGSZN_YgQD"
      },
      "execution_count": null,
      "outputs": []
    },
    {
      "cell_type": "code",
      "source": [
        "def rotate_matrix(alpha, direction='против часовой стрелке', angle_type='radians'):\n",
        "  if direction == 'по часовой стрелке':\n",
        "    alpha *= -1\n",
        "  if angle_type == 'degrees':\n",
        "    alpha = (alpha / 180) * sp.pi\n",
        "\n",
        "  matrix = sp.Matrix([[sp.cos(alpha), -sp.sin(alpha)], [sp.sin(alpha), sp.cos(alpha)]])\n",
        "  return matrix"
      ],
      "metadata": {
        "id": "El7br6tAYjy4"
      },
      "execution_count": null,
      "outputs": []
    },
    {
      "cell_type": "markdown",
      "source": [
        "### Состав варианта\n",
        "Вариант будет состоять из 3 частей\n",
        "\n",
        "1) Простые задачи (на позициях 1-3)<br>\n",
        "2) Средние задачи (на позициях 4-6)<br>\n",
        "3) Сложные задачи (на позициях 7-8)<br>\n",
        "\n",
        "Несмотря на элемент случайности при составлении варианта, гарантируется, что в каждом сгенерированном ноутбуке будут как задачи на поворот, так и задачи на работу с pandas, так и задачи на собственные числа и собственные вектора\n",
        "\n",
        "\n",
        "### Задание 1\n",
        "\n",
        "Decsription: Пусть известно, что линейный оператор А переводит вектора $v_1$ $v_2$ $v_3$ в вектора $w_1$ $w_2$ $w_3$. Найти матрицу опрератора А"
      ],
      "metadata": {
        "id": "qLgwb_p72dLu"
      }
    },
    {
      "cell_type": "markdown",
      "source": [
        "Difficulty: 3"
      ],
      "metadata": {
        "id": "QH23_JNd3_4S"
      }
    },
    {
      "cell_type": "markdown",
      "source": [
        "Possible positions: 1, 2, 3"
      ],
      "metadata": {
        "id": "vY_5s4PL4CLK"
      }
    },
    {
      "cell_type": "code",
      "source": [
        "# код, который генерирует v1 v2 v3\n",
        "\n",
        "matrix = sp.zeros(3, 3)\n",
        "while matrix.det() == 0:\n",
        "  matrix = sp.Matrix(rng.integers(low=-GOOD_NUM_THRESHOLD, high=GOOD_NUM_THRESHOLD + 1, size=(3, 3)))\n",
        "v1, v2, v3 = [matrix.col(i) for i in range(3)]\n",
        "\n",
        "generated = f'$v_1$ = ${sp.latex(v1)}$ $v_2$ = ${sp.latex(v2)}$ $v_3$ = ${sp.latex(v3)}$'"
      ],
      "metadata": {
        "id": "aT8TGbU828Od"
      },
      "execution_count": null,
      "outputs": []
    },
    {
      "cell_type": "code",
      "source": [
        "# код, который генерирует w1 w2 w3\n",
        "\n",
        "v = sp.zeros(3, 3)\n",
        "while matrix.det() == 0:\n",
        "  matrix = sp.Matrix(rng.integers(low=-GOOD_NUM_THRESHOLD, high=GOOD_NUM_THRESHOLD + 1, size=(3, 3)))\n",
        "w1, w2, w3 = [matrix.col(i) for i in range(3)]\n",
        "\n",
        "generated = f'$v_1$ = ${sp.latex(w1)}$ $v_2$ = ${sp.latex(w2)}$ $v_3$ = ${sp.latex(w3)}$'"
      ],
      "metadata": {
        "id": "TvnI6_DM3KOu"
      },
      "execution_count": null,
      "outputs": []
    },
    {
      "cell_type": "code",
      "source": [
        "# код, который генерирует решение для ассистента и преподавателя\n",
        "\n",
        "A = sp.Matrix.hstack(w1, w2, w3) @ sp.Matrix.hstack(v1, v2, v3).inv()\n",
        "\n",
        "solution = f'''\n",
        "Матрица линейного оператора А: ${sp.latex(A)}$\n",
        "'''"
      ],
      "metadata": {
        "id": "BjITmAKl3WwW"
      },
      "execution_count": null,
      "outputs": []
    },
    {
      "cell_type": "markdown",
      "source": [
        "### Задание 2\n",
        "\n",
        "Description:\n",
        "\n",
        "Вам дана матрица линейного оператора А. Выведите на экран его характеристический многочлен"
      ],
      "metadata": {
        "id": "cXrLv2S37sDX"
      }
    },
    {
      "cell_type": "markdown",
      "source": [
        "Difficulty: 2"
      ],
      "metadata": {
        "id": "VH_PTOEg7-3_"
      }
    },
    {
      "cell_type": "markdown",
      "source": [
        "Possible position: 1, 2, 3"
      ],
      "metadata": {
        "id": "3SWtkiFI8CIN"
      }
    },
    {
      "cell_type": "code",
      "source": [
        "# код, который генерирует матрицу А\n",
        "\n",
        "size = 3\n",
        "matrix = sp.diag(*rng.integers(low=-GOOD_NUM_THRESHOLD, high=GOOD_NUM_THRESHOLD + 1, size=size).tolist())\n",
        "\n",
        "transition_matrix = gen_ort_matrix()\n",
        "\n",
        "# для ортогональных матриц A.T == A.inv(), так что можем упростить компьютеру жизнь\n",
        "A = transition_matrix.T @ matrix @ transition_matrix\n",
        "generated = f'A = ${sp.latex(A)}$'"
      ],
      "metadata": {
        "id": "GVSsmpuE8IVO"
      },
      "execution_count": null,
      "outputs": []
    },
    {
      "cell_type": "code",
      "source": [
        "# код, который генерирует решение для ассистента и преподавателя\n",
        "symb = sp.Symbol('lamda')\n",
        "charpoly = (A - symb * sp.eye(3)).det()\n",
        "solution = f'Характеристический многочлен: ${sp.latex(charpoly)}$'"
      ],
      "metadata": {
        "id": "nlUFzesy8WP2"
      },
      "execution_count": null,
      "outputs": []
    },
    {
      "cell_type": "markdown",
      "source": [
        "### Задание 3\n",
        "\n",
        "Description:\n",
        "\n",
        "Вам дана матрица линейного оператора А. Выведите на экран его характеристическое уравнение, не используя метод Matrix.charpoly(), а затем решите его."
      ],
      "metadata": {
        "id": "KWPuqBUY-KWu"
      }
    },
    {
      "cell_type": "markdown",
      "source": [
        "Difficulty: 5"
      ],
      "metadata": {
        "id": "UqLYjeho-b5t"
      }
    },
    {
      "cell_type": "markdown",
      "source": [
        "Possible position: 4, 5, 6"
      ],
      "metadata": {
        "id": "1Ly6SRq3-ekU"
      }
    },
    {
      "cell_type": "code",
      "source": [
        "# код, который генерирует матрицу А\n",
        "\n",
        "size = 3\n",
        "matrix = sp.diag(*rng.integers(low=-GOOD_NUM_THRESHOLD, high=GOOD_NUM_THRESHOLD + 1, size=size).tolist())\n",
        "\n",
        "transition_matrix = gen_ort_matrix()\n",
        "\n",
        "# для ортогональных матриц A.T == A.inv(), так что можем упростить компьютеру жизнь\n",
        "A = transition_matrix.T @ matrix @ transition_matrix\n",
        "generated = f'A = ${sp.latex(A)}$'"
      ],
      "metadata": {
        "id": "PZU4u_1I-g22"
      },
      "execution_count": null,
      "outputs": []
    },
    {
      "cell_type": "code",
      "source": [
        "# код, который генерирует решение для ассистента и преподавателя\n",
        "\n",
        "symb = sp.Symbol('x')\n",
        "charpoly = sp.Eq((A - symb * sp.eye(3)).det(), 0)\n",
        "roots = sp.solveset(charpoly)\n",
        "\n",
        "solution = f'''\n",
        "Характеристическое уравнение: ${sp.latex(charpoly)}$<br><br>\n",
        "'''\n",
        "\n",
        "for i, root in enumerate(roots, 1):\n",
        "  solution += f'$x_{i}$ = ${root}$<br><br>'"
      ],
      "metadata": {
        "id": "9nRFnur_-p4F"
      },
      "execution_count": null,
      "outputs": []
    },
    {
      "cell_type": "markdown",
      "source": [
        "\n",
        "### Задание 4\n",
        "\n",
        "Description:\n",
        "\n",
        "Написать функцию, составляющую матрицу линейного оператора поворота на $\\alpha$ градусов или радиан **по** или **против часовой стрелки** на плоскости. Параметры: обязательные - угол поворота, необязательные - тип меры угла (градусы или радианы), направление поворота (по или против часовой стрелки). Значения по умолчанию - против часовой стрелки в радианах."
      ],
      "metadata": {
        "id": "w15xLMB8V-qQ"
      }
    },
    {
      "cell_type": "markdown",
      "source": [
        "Difficulty: 6"
      ],
      "metadata": {
        "id": "Ig5ZemJjnR85"
      }
    },
    {
      "cell_type": "markdown",
      "source": [
        "Possible positions: 4, 5, 6"
      ],
      "metadata": {
        "id": "J8-D-d7sneaZ"
      }
    },
    {
      "cell_type": "code",
      "execution_count": null,
      "metadata": {
        "id": "w8ky571FVx58"
      },
      "outputs": [],
      "source": [
        "vec = sp.Matrix(rng.integers(low=-GOOD_NUM_THRESHOLD, high=GOOD_NUM_THRESHOLD + 1, size=2))\n",
        "generated = 'Использовать полученную функцию для выведения на экран координат'\\\n",
        " f'векторов, полученных поворотом вектора ${sp.latex(vec)}$'"
      ]
    },
    {
      "cell_type": "code",
      "source": [
        "alpha1 = alpha2 = alpha3 = 0\n",
        "while (alpha1 == alpha2 or alpha1 == alpha3 or alpha2 == alpha3):\n",
        "  alpha1, alpha2, alpha3 = [gen_alpha() for i in range(3)]\n",
        "\n",
        "direction1 = rng.choice(['по часовой стрелке', 'против часовой стрелки'])\n",
        "\n",
        "generated = f'1) на {alpha1}, {alpha2}, {alpha3} градусов **{direction1}**'"
      ],
      "metadata": {
        "id": "WlKv1wwKkn8B"
      },
      "execution_count": null,
      "outputs": []
    },
    {
      "cell_type": "code",
      "source": [
        "alpha4 = sp.simplify(rng.integers(1, 12) * sp.pi / 12)\n",
        "direction2 = rng.choice(['по часовой стрелке', 'против часовой стрелки'])\n",
        "generated = f'2) на ${sp.latex(alpha4)}$ радиан **{direction2}**'"
      ],
      "metadata": {
        "id": "ms8qMEczkvAr"
      },
      "execution_count": null,
      "outputs": []
    },
    {
      "cell_type": "code",
      "source": [
        "# код, который генерирует решение для преподавателя и ассистента\n",
        "\n",
        "matrix1 = rotate_matrix(alpha1, direction=direction1, angle_type='degrees').evalf(2)\n",
        "ans1 = (matrix1 @ vec).evalf(2)\n",
        "matrix2 = rotate_matrix(alpha2, direction=direction1, angle_type='degrees').evalf(2)\n",
        "ans2 = (matrix2 @ vec).evalf(2)\n",
        "matrix3 = rotate_matrix(alpha3, direction=direction1, angle_type='degrees').evalf(2)\n",
        "ans3 = (matrix3 @ vec).evalf(2)\n",
        "matrix4 = rotate_matrix(alpha4, direction=direction2).evalf(2)\n",
        "ans4 = (matrix4 @ vec).evalf(2)\n",
        "solution = f'''\n",
        "Для $\\\\alpha$ = {alpha1} градусов {direction1} матрица поворота равна ${sp.latex(matrix1)}$<br>\n",
        "Координаты повернутого вектора: ${sp.latex(ans1)}$\n",
        "\n",
        "Для $\\\\alpha$ = {alpha2} градусов {direction1} матрица поворота равна ${sp.latex(matrix2)}$<br>\n",
        "Координаты повернутого вектора: ${sp.latex(ans2)}$\n",
        "\n",
        "Для $\\\\alpha$ = {alpha3} градусов {direction1} матрица поворота равна ${sp.latex(matrix3)}$<br>\n",
        "Координаты повернутого вектора: ${sp.latex(ans3)}$\n",
        "\n",
        "Для $\\\\alpha$ = ${alpha4}$ радиан {direction2} матрица поворота равна ${sp.latex(matrix4)}$<br>\n",
        "Координаты повернутого вектора: ${sp.latex(ans4)}$\n",
        "'''"
      ],
      "metadata": {
        "id": "Ov76kqFIoDnU"
      },
      "execution_count": null,
      "outputs": []
    },
    {
      "cell_type": "markdown",
      "source": [
        "### Задание 5\n",
        "\n",
        "\n",
        "Description: Вам дана матрица линейного оператора А. Выведите на экран его характеристическое уравнение, не используя метод Matrix.charpoly(), а затем решите его.\n",
        "\n",
        "После, при помощи матрицы перехода постройте матрицу линейного оператора А в базисе из собственных векторов и сравните получившуюся матрицу с корнями характеристического многочлена"
      ],
      "metadata": {
        "id": "l95RIV4nAj56"
      }
    },
    {
      "cell_type": "markdown",
      "source": [
        "Difficulty: 8"
      ],
      "metadata": {
        "id": "4sksqrLYBQvX"
      }
    },
    {
      "cell_type": "markdown",
      "source": [
        "Possible position: 7, 8"
      ],
      "metadata": {
        "id": "XLkW_f4HBT_d"
      }
    },
    {
      "cell_type": "code",
      "source": [
        "# код, который генерирует матрицу А\n",
        "\n",
        "size = 3\n",
        "matrix = sp.diag(*rng.integers(low=-GOOD_NUM_THRESHOLD, high=GOOD_NUM_THRESHOLD + 1, size=size).tolist())\n",
        "\n",
        "transition_matrix = gen_ort_matrix()\n",
        "\n",
        "# для ортогональных матриц A.T == A.inv(), так что можем упростить компьютеру жизнь\n",
        "A = transition_matrix.T @ matrix @ transition_matrix\n",
        "generated = f'A = ${sp.latex(A)}$'"
      ],
      "metadata": {
        "id": "ck-OkDp4BWsF"
      },
      "execution_count": null,
      "outputs": []
    },
    {
      "cell_type": "code",
      "source": [
        "# код, который генерирует решение для ассистента и преподавателя\n",
        "\n",
        "symb = sp.Symbol('x')\n",
        "charpoly = sp.Eq((A - symb * sp.eye(3)).det(), 0)\n",
        "roots = sp.solveset(charpoly)\n",
        "\n",
        "solution = f'''\n",
        "Характеристическое уравнение: ${sp.latex(charpoly)}$<br><br>\n",
        "'''\n",
        "\n",
        "for i, root in enumerate(roots, 1):\n",
        "  solution += f'$x_{i}$ = ${root}$<br><br>'\n",
        "\n",
        "solution += '<br><br><br><br>'\n",
        "\n",
        "eigen_basis = []\n",
        "for triple in A.eigenvects():\n",
        "  eigen_basis += triple[2]\n",
        "transition_matrix = sp.Matrix.hstack(*eigen_basis)\n",
        "eigen_basis_A = transition_matrix.inv() @ A @ transition_matrix\n",
        "\n",
        "solution += f'''\n",
        "Матрица перехода к базису из собственных векторов: ${sp.latex(transition_matrix)}$<br><br>\n",
        "Оператор А в этом базисе: ${sp.latex(eigen_basis_A)}$<br>\n",
        "'''"
      ],
      "metadata": {
        "id": "P_AJ-K9wBdWt"
      },
      "execution_count": null,
      "outputs": []
    },
    {
      "cell_type": "markdown",
      "source": [
        "## Задание 6\n",
        "\n",
        "Description: Найти собственные числа и собственные векторы линейного оператора, заданного матрицей A\n",
        "\n",
        "Воспользоваться eigenvals и eigenvects, проверить выполнение равенства нулю характеристического многочлена $|A-\\lambda E|$ и условия $Ax=\\lambda x$."
      ],
      "metadata": {
        "id": "UBz73IoM0CQA"
      }
    },
    {
      "cell_type": "markdown",
      "source": [
        "Difficulty: 4"
      ],
      "metadata": {
        "id": "hyjwL5Dw-qxo"
      }
    },
    {
      "cell_type": "markdown",
      "source": [
        "Possible positions: 1, 2, 3"
      ],
      "metadata": {
        "id": "2Ozil6Jj-sS3"
      }
    },
    {
      "cell_type": "code",
      "source": [
        "# код, который генерирует матрицу А\n",
        "size = 3\n",
        "matrix = sp.diag(*rng.integers(low=-GOOD_NUM_THRESHOLD, high=GOOD_NUM_THRESHOLD + 1, size=size).tolist())\n",
        "\n",
        "transition_matrix = gen_ort_matrix()\n",
        "\n",
        "# для ортогональных матриц A.T == A.inv(), так что можем упростить компьютеру жизнь\n",
        "A = transition_matrix.T @ matrix @ transition_matrix\n",
        "generated = f'A = ${sp.latex(A)}$'"
      ],
      "metadata": {
        "id": "Zm58EGQ62yVY"
      },
      "execution_count": null,
      "outputs": []
    },
    {
      "cell_type": "code",
      "source": [
        "# код, который генерирует решения для преподавателя и ассистента\n",
        "\n",
        "solution = f'''\n",
        "A.eigenvects() = ${sp.latex(A.eigenvects())}$<br>\n",
        "'''"
      ],
      "metadata": {
        "id": "PUIYgath-zIg"
      },
      "execution_count": null,
      "outputs": []
    },
    {
      "cell_type": "markdown",
      "source": [
        "## Задание 7\n",
        "\n",
        "Description:\n",
        "\n",
        "Построить матрицу оператора A в базисе из векторов $v_1$ $v_2$ $v_3$. Вывести на экран матрицу перехода к новому базису и матрицу оператора в новом базисе."
      ],
      "metadata": {
        "id": "hpuBNZalPkyT"
      }
    },
    {
      "cell_type": "markdown",
      "source": [
        "Difficulty: 5"
      ],
      "metadata": {
        "id": "zzWq6o0dPyAE"
      }
    },
    {
      "cell_type": "markdown",
      "source": [
        "Possible position: 4, 5, 6"
      ],
      "metadata": {
        "id": "fxGOdqXOP3PK"
      }
    },
    {
      "cell_type": "code",
      "source": [
        "# код, который генерирует матрицу А\n",
        "size = 3\n",
        "matrix = sp.diag(*rng.integers(low=-GOOD_NUM_THRESHOLD, high=GOOD_NUM_THRESHOLD + 1, size=size).tolist())\n",
        "\n",
        "transition_matrix = gen_ort_matrix()\n",
        "\n",
        "# для ортогональных матриц A.T == A.inv(), так что можем упростить компьютеру жизнь\n",
        "A = transition_matrix.T @ matrix @ transition_matrix\n",
        "generated = f'A = ${sp.latex(A)}$'"
      ],
      "metadata": {
        "id": "TADOAQSQ5tCx"
      },
      "execution_count": null,
      "outputs": []
    },
    {
      "cell_type": "code",
      "source": [
        "# код, который генерирует v1 v2 v3\n",
        "\n",
        "\n",
        "transition_matrix = sp.zeros(3, 3)\n",
        "while transition_matrix.det() == 0:\n",
        "  transition_matrix = sp.Matrix(rng.integers(low=-GOOD_NUM_THRESHOLD, high=GOOD_NUM_THRESHOLD + 1, size=(3, 3)))\n",
        "v1, v2, v3 = [transition_matrix.col(i) for i in range(3)]\n",
        "\n",
        "generated = f'$v_1$ = ${sp.latex(v1)}$ $v_2$ = ${sp.latex(v2)}$ $v_3$ = ${sp.latex(v3)}$'"
      ],
      "metadata": {
        "id": "4pDwKfmAPkKT"
      },
      "execution_count": null,
      "outputs": []
    },
    {
      "cell_type": "code",
      "source": [
        "# код, который генерирует решения для преподавателя и ассистента\n",
        "\n",
        "new_basis_A = transition_matrix.inv() * A * transition_matrix\n",
        "\n",
        "solution = f'Transition Matrix: ${sp.latex(transition_matrix)}$<br><br>' + \\\n",
        "           f'A in new basis: ${sp.latex(new_basis_A)}$'\n"
      ],
      "metadata": {
        "id": "GNkqJI2IQoJ3"
      },
      "execution_count": null,
      "outputs": []
    },
    {
      "cell_type": "markdown",
      "source": [
        "### Задание 8\n",
        "\n",
        "\n",
        "Description: Построить матрицу оператора A в базисе из собственных векторов с помощью eigenvects и матрицы перехода. Сравнить диагональные элементы с собственными числами."
      ],
      "metadata": {
        "id": "EHgjB3uhY73o"
      }
    },
    {
      "cell_type": "markdown",
      "source": [
        "Difficulty: 3"
      ],
      "metadata": {
        "id": "jazlPuM-ZEyH"
      }
    },
    {
      "cell_type": "markdown",
      "source": [
        "Possible positions: 4, 5, 6"
      ],
      "metadata": {
        "id": "5r06V9mgZH8u"
      }
    },
    {
      "cell_type": "code",
      "source": [
        "# код, который генерирует матрицу А\n",
        "size = 3\n",
        "matrix = sp.diag(*rng.integers(low=-GOOD_NUM_THRESHOLD, high=GOOD_NUM_THRESHOLD + 1, size=size).tolist())\n",
        "\n",
        "transition_matrix = gen_ort_matrix()\n",
        "\n",
        "# для ортогональных матриц A.T == A.inv(), так что можем упростить компьютеру жизнь\n",
        "A = transition_matrix.T @ matrix @ transition_matrix\n",
        "generated = f'A = ${sp.latex(A)}$'"
      ],
      "metadata": {
        "id": "4YZFcHVm6B5Z"
      },
      "execution_count": null,
      "outputs": []
    },
    {
      "cell_type": "code",
      "source": [
        "# код для ассистента и преподавателя\n",
        "# код генерации матрицы перехода в собстренный базис\n",
        "\n",
        "eigen_basis = []\n",
        "for triple in A.eigenvects():\n",
        "  eigen_basis += triple[2]\n",
        "transition_matrix = sp.Matrix.hstack(*eigen_basis)\n",
        "eigen_basis_A = transition_matrix.inv() @ A @ transition_matrix\n",
        "\n",
        "solution = f'''\n",
        "Матрица перехода к базису из собственных векторов: ${sp.latex(transition_matrix)}$<br><br>\n",
        "Оператор А в этом базисе: ${sp.latex(eigen_basis_A)}$<br>\n",
        "'''"
      ],
      "metadata": {
        "id": "zEKF5kDDZHV1"
      },
      "execution_count": null,
      "outputs": []
    },
    {
      "cell_type": "markdown",
      "source": [
        "### Задание 9\n",
        "\n",
        "Description:"
      ],
      "metadata": {
        "id": "Ss8lr1BrdyyD"
      }
    },
    {
      "cell_type": "markdown",
      "source": [
        "Difficulty: 7"
      ],
      "metadata": {
        "id": "WfvuEPFDd53B"
      }
    },
    {
      "cell_type": "markdown",
      "source": [
        "Possible positions: 7, 8"
      ],
      "metadata": {
        "id": "0JYkPSaTlD9z"
      }
    },
    {
      "cell_type": "code",
      "source": [
        "a = sp.Matrix(rng.integers(low=-GOOD_NUM_THRESHOLD, high=GOOD_NUM_THRESHOLD+1, size=2))\n",
        "\n",
        "generated = f'Изобразить на графике вектор $a{sp.latex(a)}$ и результаты его поворота<br><br>'"
      ],
      "metadata": {
        "id": "rg1fufAseBU3"
      },
      "execution_count": null,
      "outputs": []
    },
    {
      "cell_type": "code",
      "source": [
        "alpha1 = alpha2 = alpha3 = 0\n",
        "while (alpha1 == alpha2 or alpha1 == alpha3 or alpha2 == alpha3):\n",
        "  alpha1, alpha2, alpha3 = [gen_alpha() for i in range(3)]\n",
        "\n",
        "direction1 = rng.choice(['по часовой стрелке', 'против часовой стрелки'])\n",
        "\n",
        "generated = f'1) на {alpha1}, {alpha2}, {alpha3} градусов **{direction1}** (имена $v_1$ $v_2$ $v_3$)'"
      ],
      "metadata": {
        "id": "5I3pGm7pecPH"
      },
      "execution_count": null,
      "outputs": []
    },
    {
      "cell_type": "code",
      "source": [
        "alpha4, alpha5 = 0, 0\n",
        "while alpha4 == alpha5:\n",
        "  alpha4, alpha5 = [sp.simplify(rng.integers(1, 12) * sp.pi / 12) for i in range(2)]\n",
        "direction2 = rng.choice(['по часовой стрелке', 'против часовой стрелки'])\n",
        "generated = f'2) на ${sp.latex(alpha4)}$ и ${sp.latex(alpha5)}$ радиан **{direction2}** (имена $\\\\omega_1$ $\\\\omega_2$)'"
      ],
      "metadata": {
        "id": "aDZup8m8gTGT"
      },
      "execution_count": null,
      "outputs": []
    },
    {
      "cell_type": "code",
      "source": [
        "generated = '''\n",
        "**Указание:** описать функцию, возвращающую угол поворота на плоскости против\n",
        "часовой стрелки в радианах. Агрументы функции: угол поворота, тип меры угла\n",
        "(градусы или радианы), направление поворота (по или против часовой стрелки).\n",
        "С помощью этой функции  составить словарь с ключами - именами векторов,\n",
        "значениями - углами  поворота против часовой стрелки в радианах, использовать\n",
        "в цикле этот словарь для изображения векторов на графике.\n",
        "\n",
        "В легенде графика для каждого вектора указать его имя и координаты. Для\n",
        "корректного представления координат в легенде нужно отдельно выделить каждую\n",
        "координату.\n",
        "'''"
      ],
      "metadata": {
        "id": "3TMMyi2wgwVX"
      },
      "execution_count": null,
      "outputs": []
    },
    {
      "cell_type": "code",
      "source": [
        "# код генерации решения для ассистента и преподавателя\n",
        "\n",
        "matrix1 = rotate_matrix(alpha1, direction=direction1, angle_type='degrees').evalf(2)\n",
        "v1 = (matrix1 @ a).evalf(2)\n",
        "matrix2 = rotate_matrix(alpha2, direction=direction1, angle_type='degrees').evalf(2)\n",
        "v2 = (matrix2 @ a).evalf(2)\n",
        "matrix3 = rotate_matrix(alpha3, direction=direction1, angle_type='degrees').evalf(2)\n",
        "v3 = (matrix3 @ a).evalf(2)\n",
        "matrix4 = rotate_matrix(alpha4, direction=direction2).evalf(2)\n",
        "w1 = (matrix4 @ a).evalf(2)\n",
        "matrix5 = rotate_matrix(alpha5, direction=direction2).evalf(2)\n",
        "w2 = (matrix4 @ a).evalf(2)\n",
        "solution = f'''\n",
        "$v_1$ = ${sp.latex(v1)}$<br><br>\n",
        "$v_2$ = ${sp.latex(v2)}$<br><br>\n",
        "$v_3$ = ${sp.latex(v3)}$<br><br>\n",
        "$\\\\omega_1$ = ${sp.latex(w1)}$<br><br>\n",
        "$\\\\omega_2$ = ${sp.latex(w2)}$<br><br>\n",
        "'''"
      ],
      "metadata": {
        "id": "cqWhoXwKhCXI"
      },
      "execution_count": null,
      "outputs": []
    },
    {
      "cell_type": "markdown",
      "source": [
        "### Задание 10\n",
        "\n",
        "Description:"
      ],
      "metadata": {
        "id": "H7w1xJNZDUV1"
      }
    },
    {
      "cell_type": "markdown",
      "source": [
        "Difficulty: 7"
      ],
      "metadata": {
        "id": "PydWnQ7UDxbj"
      }
    },
    {
      "cell_type": "markdown",
      "source": [
        "Possible position: 4, 5, 6"
      ],
      "metadata": {
        "id": "Bn8giNjDDzw1"
      }
    },
    {
      "cell_type": "code",
      "source": [
        "degree_type = rng.choice(['градусов', 'радиан'])\n",
        "if degree_type == 'градусов':\n",
        "  alpha = gen_alpha()\n",
        "else:\n",
        "  alpha = rng.integers(1, 12) * sp.pi / 12\n",
        "axis = rng.choice(['x', 'y', 'z'])\n",
        "direction = rng.choice(['по часовой стрелке', 'против часовой стрелки'])\n",
        "plane = rng.choice(['xy', 'xz', 'yz'])\n",
        "\n",
        "generated = f'''\n",
        "Пусть про линейный оператор А известно, что он каждый трёхмерный вектор поворачивает на ${alpha}$ ${degree_type}$ вокруг оси $О{axis}$ **{direction}** и\n",
        "проецирует на плоскость $O{plane}$. Найдите матрицу этого линейного оператора и выведите её на экран\n",
        "'''"
      ],
      "metadata": {
        "id": "8GS2T_a8D3Bk"
      },
      "execution_count": null,
      "outputs": []
    },
    {
      "cell_type": "code",
      "source": [
        "# смотрим куда переходят базисные векторы, составляем матрицу линейного оператора\n",
        "if degree_type == 'градусов':\n",
        "  alpha = (alpha * sp.pi) / 180\n",
        "\n",
        "if direction == 'по часовой стрелке':\n",
        "  alpha *= -1\n",
        "rotation = {\n",
        "    'x': sp.Matrix([[1, 0,             0,            ],\n",
        "                    [0, sp.cos(alpha), -sp.sin(alpha)],\n",
        "                    [0, sp.sin(alpha),  sp.cos(alpha)]]),\n",
        "    'y': sp.Matrix([[ sp.cos(alpha), 0, sp.sin(alpha)],\n",
        "                    [0             , 1,             0],\n",
        "                    [-sp.sin(alpha), 0, sp.cos(alpha)]]),\n",
        "    'z': sp.Matrix([[sp.cos(alpha), -sp.sin(alpha), 0],\n",
        "                    [sp.sin(alpha),  sp.cos(alpha), 0],\n",
        "                    [0,              0,             1]])\n",
        "}\n",
        "\n",
        "projection = {\n",
        "    'xy': sp.diag(1, 1, 0),\n",
        "    'xz': sp.diag(1, 0, 1),\n",
        "    'yz': sp.diag(0, 1, 1)\n",
        "}\n",
        "\n",
        "solution = f'А = ${sp.latex(rotation[axis])} * {sp.latex(projection[plane])} = {sp.latex(rotation[axis] @ projection[plane])}$'"
      ],
      "metadata": {
        "id": "4CDg1mtUGKrd"
      },
      "execution_count": null,
      "outputs": []
    },
    {
      "cell_type": "markdown",
      "source": [
        "###Задание 11\n",
        "\n",
        "Discription:\n",
        "\n",
        "Считать из файла \"task_13_6.xlsx\" координаты векторов на плоскости и углы поворота (крайний левый столбец в файле содержит имена векторов, следующие два - координаты векторов, затем угол поворота и последний столбец содержит текст \"rad\" или \"deg\", т.е. угол в радианах или градусах).\n",
        "\n",
        "Для каждого вектора найти координаты вектора, полученного в результате поворота, затем записать в файл  \"task_13_6_ans.xlsx\" имена векторов  из файла \"task_13_6.xlsx\" и координаты  векторов, полученных в результате поворота. В файле  \"task_13_6_ans.xlsx\" подписи строк - имена векторов, подписи столбцов - имена координат, т.е. \"x\" и \"y\"."
      ],
      "metadata": {
        "id": "NkbKJVaDmFGX"
      }
    },
    {
      "cell_type": "markdown",
      "source": [
        "Difficulty: 9"
      ],
      "metadata": {
        "id": "XXguqqudotnK"
      }
    },
    {
      "cell_type": "markdown",
      "source": [
        "Possible positions: 7, 8"
      ],
      "metadata": {
        "id": "fUAx8dEYop7R"
      }
    },
    {
      "cell_type": "code",
      "source": [
        "matrix = []\n",
        "for name in ['v', 'w', 'vect', 'a', 'n']:\n",
        "  deg_type = rng.choice(['deg', 'rad'])\n",
        "  row = [*rng.integers(-GOOD_NUM_THRESHOLD, GOOD_NUM_THRESHOLD+1, size=2),\n",
        "         gen_alpha() if deg_type == 'deg' else\n",
        "          (rng.integers(1, 12) * sp.pi / 12).evalf(2), deg_type]\n",
        "  matrix.append(row)\n",
        "\n",
        "df = pd.DataFrame(matrix,\n",
        "    columns = ['x', 'y', 'angle', 'type'],\n",
        "    index = ['v', 'w', 'vect', 'a', 'n'])\n",
        "\n",
        "class Wrapper:\n",
        "  def __init__(self, df):\n",
        "    self.df = df\n",
        "    self.filename = 'task_13_6.xlsx'\n",
        "\n",
        "  def load(self):\n",
        "    self.df.to_excel(f'./{self.filename}')\n",
        "\n",
        "generated = Wrapper(df)"
      ],
      "metadata": {
        "id": "eYvedCK7oxun"
      },
      "execution_count": null,
      "outputs": []
    },
    {
      "cell_type": "code",
      "source": [
        "# код генерации решения для ассистента и преподавателя\n",
        "\n",
        "solution = ''\n",
        "for i, vec in enumerate(['v', 'w', 'vect', 'a', 'n']):\n",
        "  angle_type = 'degrees' if df['type'][vec] == 'deg' else 'radians'\n",
        "  rot_mat = rotate_matrix(df['angle'][vec], direction='против часовой стрелки', angle_type=angle_type).evalf(2)\n",
        "  ans = (rot_mat @ sp.Matrix(matrix[i][0:2])).evalf(2)\n",
        "  solution += f'Rotated {vec}: ${sp.latex(ans)}$<br><br>'"
      ],
      "metadata": {
        "id": "97mgMf_4qcPi"
      },
      "execution_count": null,
      "outputs": []
    }
  ]
}