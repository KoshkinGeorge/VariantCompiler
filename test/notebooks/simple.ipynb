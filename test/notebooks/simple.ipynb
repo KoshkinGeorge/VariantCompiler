{
  "nbformat": 4,
  "nbformat_minor": 0,
  "metadata": {
    "colab": {
      "provenance": []
    },
    "kernelspec": {
      "name": "python3",
      "display_name": "Python 3"
    },
    "language_info": {
      "name": "python"
    }
  },
  "cells": [
    {
      "cell_type": "markdown",
      "source": [
        "##Задание 1\n",
        "Description: Just a simple **test notebook**"
      ],
      "metadata": {
        "id": "Qwp91HOfTyXK"
      }
    },
    {
      "cell_type": "markdown",
      "source": [
        "Difficulty: 7"
      ],
      "metadata": {
        "id": "sJU2MVbuT4-Q"
      }
    },
    {
      "cell_type": "markdown",
      "source": [
        "Possible positions: 1, 5, 6, 7"
      ],
      "metadata": {
        "id": "w2ZRbumET5yA"
      }
    },
    {
      "cell_type": "code",
      "execution_count": null,
      "metadata": {
        "id": "J44XPgzETwNh"
      },
      "outputs": [],
      "source": [
        "generated = 5"
      ]
    },
    {
      "cell_type": "code",
      "source": [
        "generated = [[randint(1, 100) for i in range(3)] for j in range(4)]"
      ],
      "metadata": {
        "id": "A3HcXVaIUTNA"
      },
      "execution_count": null,
      "outputs": []
    },
    {
      "cell_type": "markdown",
      "source": [
        "#Задание 2\n",
        "\n",
        "Description: The second task is to admit that you are a fool"
      ],
      "metadata": {
        "id": "MTzdXW9VUhYs"
      }
    },
    {
      "cell_type": "markdown",
      "source": [
        "Difficulty: 100"
      ],
      "metadata": {
        "id": "GhfNiUeqUmak"
      }
    },
    {
      "cell_type": "markdown",
      "source": [
        "Possible positions: 2,3,    4, 5,6,            \n",
        "9"
      ],
      "metadata": {
        "id": "-U36gORpUnSm"
      }
    },
    {
      "cell_type": "code",
      "source": [
        "generated = [[randint(1, 100) for i in range(4)] for j in range(3)]"
      ],
      "metadata": {
        "id": "Lp39A0XdU8t0"
      },
      "execution_count": null,
      "outputs": []
    },
    {
      "cell_type": "code",
      "source": [
        "generated = [[randint(1, 100) for i in range(4)] for j in range(4)]"
      ],
      "metadata": {
        "id": "Q6nMi9E_U_Rh"
      },
      "execution_count": null,
      "outputs": []
    }
  ]
}