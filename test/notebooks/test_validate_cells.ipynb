{
  "nbformat": 4,
  "nbformat_minor": 0,
  "metadata": {
    "colab": {
      "provenance": []
    },
    "kernelspec": {
      "name": "python3",
      "display_name": "Python 3"
    },
    "language_info": {
      "name": "python"
    }
  },
  "cells": [
    {
      "cell_type": "markdown",
      "source": [
        "Barabarabere"
      ],
      "metadata": {
        "id": "nM_reeibv2HX"
      }
    },
    {
      "cell_type": "code",
      "execution_count": null,
      "metadata": {
        "id": "X1RApSqCv06Y"
      },
      "outputs": [],
      "source": [
        "Barabarabere"
      ]
    },
    {
      "cell_type": "markdown",
      "source": [
        "Here i am gonna drop markdown cell with specific format regex = r'\\d\\d:\\d\\d:\\d\\d'"
      ],
      "metadata": {
        "id": "Vb0sBUWev__p"
      }
    },
    {
      "cell_type": "markdown",
      "source": [
        "12:30:39"
      ],
      "metadata": {
        "id": "ASXUQlhDwcL6"
      }
    }
  ]
}