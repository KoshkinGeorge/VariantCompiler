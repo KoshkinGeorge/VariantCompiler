{
  "nbformat": 4,
  "nbformat_minor": 0,
  "metadata": {
    "colab": {
      "provenance": []
    },
    "kernelspec": {
      "name": "python3",
      "display_name": "Python 3"
    },
    "language_info": {
      "name": "python"
    }
  },
  "cells": [
    {
      "cell_type": "code",
      "execution_count": null,
      "metadata": {
        "id": "ieziXaCYPHMy",
        "colab": {
          "base_uri": "https://localhost:8080/"
        },
        "outputId": "c62473f4-6c31-4a13-d816-1cd11757d6f6"
      },
      "outputs": [
        {
          "output_type": "stream",
          "name": "stdout",
          "text": [
            "That`s my first init block\n"
          ]
        }
      ],
      "source": [
        "print('That`s my first init block')"
      ]
    },
    {
      "cell_type": "code",
      "source": [
        "print('Second init block')"
      ],
      "metadata": {
        "id": "hJblEqFbPUuY",
        "colab": {
          "base_uri": "https://localhost:8080/"
        },
        "outputId": "dc4e2d6d-5441-461f-a390-2d426057ea18"
      },
      "execution_count": null,
      "outputs": [
        {
          "output_type": "stream",
          "name": "stdout",
          "text": [
            "Second init block\n"
          ]
        }
      ]
    },
    {
      "cell_type": "code",
      "source": [
        "import random\n",
        "import sympy\n"
      ],
      "metadata": {
        "id": "kyxeqodzPYo3"
      },
      "execution_count": null,
      "outputs": []
    },
    {
      "cell_type": "markdown",
      "source": [
        "## Задание 1\n",
        "\n",
        "Description: Выведите матрицу размера N * M, заполненную нулями\n"
      ],
      "metadata": {
        "id": "sSHWQxtvPe2H"
      }
    },
    {
      "cell_type": "markdown",
      "source": [
        "Difficulty: 2"
      ],
      "metadata": {
        "id": "4wNw5KrVPzBf"
      }
    },
    {
      "cell_type": "markdown",
      "source": [
        "Possible positions: 1"
      ],
      "metadata": {
        "id": "XoMwctx4P1iL"
      }
    },
    {
      "cell_type": "code",
      "source": [
        "# код, который генерирует N\n",
        "N = random.randint(1, 5)\n",
        "generated = f'**N = {N}**\\n'"
      ],
      "metadata": {
        "id": "ZVfVZTPtPt2C"
      },
      "execution_count": null,
      "outputs": []
    },
    {
      "cell_type": "code",
      "source": [
        "# код, который генерирует M\n",
        "M = random.randint(1, 5)\n",
        "generated = f'**M = {M}**\\n'"
      ],
      "metadata": {
        "id": "s3aCc54_PbsG"
      },
      "execution_count": null,
      "outputs": []
    },
    {
      "cell_type": "code",
      "source": [
        "# код, который генерирует solution для учителя и ассистента\n",
        "answer_md = sympy.latex(sympy.zeros(N, M))\n",
        "solution = f'Answer = ${answer_md}$'"
      ],
      "metadata": {
        "id": "iemDZN0SKSt2"
      },
      "execution_count": null,
      "outputs": []
    },
    {
      "cell_type": "markdown",
      "source": [
        "## Задание 2\n",
        "\n",
        "Description: Выведите матрицу размера N * M, у которой на главной диагонали стоят единицы\n",
        "\n",
        "\n"
      ],
      "metadata": {
        "id": "mVkk32iCQb5c"
      }
    },
    {
      "cell_type": "markdown",
      "source": [
        "Difficulty: 2"
      ],
      "metadata": {
        "id": "_liCPld4Ql-b"
      }
    },
    {
      "cell_type": "markdown",
      "source": [
        "Possible positions: 1"
      ],
      "metadata": {
        "id": "e0FJQBb4Qmzq"
      }
    },
    {
      "cell_type": "code",
      "source": [
        "# код, который генерирует N\n",
        "N = random.randint(1, 5)\n",
        "generated = f'**N = {N}**\\n'"
      ],
      "metadata": {
        "id": "qReQhP41QpTr"
      },
      "execution_count": null,
      "outputs": []
    },
    {
      "cell_type": "code",
      "source": [
        "# код, который генерирует M\n",
        "M = random.randint(1, 5)\n",
        "generated = f'**M = {M}**\\n'"
      ],
      "metadata": {
        "id": "rQcnrQulQqSN"
      },
      "execution_count": null,
      "outputs": []
    },
    {
      "cell_type": "code",
      "source": [
        "# код, который генерирует solution для учителя и ассистента\n",
        "answer_md = sympy.latex(sympy.eye(N, M))\n",
        "solution = f'Answer = ${answer_md}$'"
      ],
      "metadata": {
        "id": "9XLdHd1SQ74q"
      },
      "execution_count": null,
      "outputs": []
    },
    {
      "cell_type": "markdown",
      "source": [
        "##Задание 3\n",
        "\n",
        "Description: Выведите **диагональную матрицу** размера N * N, у которой на диагонали расставлены числа от 1 до N в возрастающем порядке"
      ],
      "metadata": {
        "id": "bCXL68S2RBQ7"
      }
    },
    {
      "cell_type": "markdown",
      "source": [
        "Difficulty: 3"
      ],
      "metadata": {
        "id": "1eLP6_AqRiFH"
      }
    },
    {
      "cell_type": "markdown",
      "source": [
        "Possible positions: 1"
      ],
      "metadata": {
        "id": "PpHJfqonRj23"
      }
    },
    {
      "cell_type": "code",
      "source": [
        "# код, который генерирует N\n",
        "N = random.randint(1, 5)\n",
        "generated = f'**N = {N}**\\n'"
      ],
      "metadata": {
        "id": "XxfrcVW3RIf4"
      },
      "execution_count": null,
      "outputs": []
    },
    {
      "cell_type": "code",
      "source": [
        "answer_md = sympy.latex(sympy.diag(range(1, N+1)))\n",
        "solution = f'Answer = ${answer_md}$'"
      ],
      "metadata": {
        "colab": {
          "base_uri": "https://localhost:8080/"
        },
        "id": "yiymESyMRAH9",
        "outputId": "8b493a91-669c-4fe6-abe1-d876273dd122"
      },
      "execution_count": null,
      "outputs": [
        {
          "output_type": "stream",
          "name": "stderr",
          "text": [
            "/usr/local/lib/python3.11/dist-packages/sympy/matrices/matrixbase.py:1046: SymPyDeprecationWarning: \n",
            "\n",
            "non-Expr objects in a Matrix is deprecated. Matrix represents\n",
            "a mathematical matrix. To represent a container of non-numeric\n",
            "entities, Use a list of lists, TableForm, NumPy array, or some\n",
            "other data structure instead.\n",
            "\n",
            "See https://docs.sympy.org/latest/explanation/active-deprecations.html#deprecated-non-expr-in-matrix\n",
            "for details.\n",
            "\n",
            "This has been deprecated since SymPy version 1.9. It\n",
            "will be removed in a future version of SymPy.\n",
            "\n",
            "  return klass._eval_diag(rows, cols, diag_entries)\n"
          ]
        }
      ]
    },
    {
      "cell_type": "markdown",
      "source": [
        "## Задание 4\n",
        "\n",
        "Description: Вам дана матрица размера N * N, записанная в файле matrix.xlsx.  \n",
        "\n",
        "Найдите её определитель и выведите его на экран"
      ],
      "metadata": {
        "id": "6_SL0DTOOvAB"
      }
    },
    {
      "cell_type": "markdown",
      "source": [
        "Difficulty: 5"
      ],
      "metadata": {
        "id": "WD-zUrVUPGk4"
      }
    },
    {
      "cell_type": "markdown",
      "source": [
        "Possible positions: 2"
      ],
      "metadata": {
        "id": "qwztXomePJg4"
      }
    },
    {
      "cell_type": "code",
      "source": [
        "# код, который генерирует N\n",
        "N = random.randint(1, 5)\n",
        "generated = f'**N = {N}**\\n'"
      ],
      "metadata": {
        "id": "_MuniBeLPpjx"
      },
      "execution_count": null,
      "outputs": []
    },
    {
      "cell_type": "code",
      "source": [
        "# код, который генерирует файл с матрицей\n",
        "\n",
        "import pandas as pd\n",
        "class Wrapper:\n",
        "  def __init__(self, df):\n",
        "    self.df = df\n",
        "    self.filename = 'matrix.xlsx'\n",
        "\n",
        "  def load(self):\n",
        "    self.df.to_excel(f'./{self.filename}', header=False, index=False)\n",
        "\n",
        "\n",
        "df = pd.DataFrame([[random.randint(-9, 9) for i in range(N)] for j in range(N)])\n",
        "generated = Wrapper(df)"
      ],
      "metadata": {
        "id": "OLw5V6eMPF7h"
      },
      "execution_count": null,
      "outputs": []
    },
    {
      "cell_type": "code",
      "source": [
        "solution = f'Определитель равен: $det(A) = {sympy.latex(sympy.Matrix(df.to_numpy()).det())}$'"
      ],
      "metadata": {
        "colab": {
          "base_uri": "https://localhost:8080/",
          "height": 37
        },
        "id": "jz07hhpqRIyx",
        "outputId": "3e448d57-25ca-41ea-fa3d-947e3d1d952a"
      },
      "execution_count": null,
      "outputs": [
        {
          "output_type": "execute_result",
          "data": {
            "text/plain": [
              "-150"
            ],
            "text/latex": "$\\displaystyle -150$"
          },
          "metadata": {},
          "execution_count": 20
        }
      ]
    }
  ]
}